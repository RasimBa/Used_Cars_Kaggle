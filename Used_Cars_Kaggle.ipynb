{
 "cells": [
  {
   "cell_type": "markdown",
   "id": "a3d4159a",
   "metadata": {},
   "source": [
    "# Kaggle Dataset: Used Cars"
   ]
  },
  {
   "cell_type": "markdown",
   "id": "72ef6d57",
   "metadata": {},
   "source": [
    "### Importing libraries"
   ]
  },
  {
   "cell_type": "code",
   "execution_count": 1,
   "id": "90191ee5",
   "metadata": {},
   "outputs": [],
   "source": [
    "import pandas as pd\n",
    "import numpy as np\n",
    "import matplotlib.pyplot as plt"
   ]
  },
  {
   "cell_type": "markdown",
   "id": "aa1714ef",
   "metadata": {},
   "source": [
    "### Custom functions"
   ]
  },
  {
   "cell_type": "code",
   "execution_count": 2,
   "id": "f695c6fe",
   "metadata": {},
   "outputs": [],
   "source": [
    "def calculate_price_in_rupee(row):\n",
    "    \n",
    "    '''The function calculates the price in rupees based on values in New_Price column \n",
    "    reflected as numbers with scientific notation abbreviations: either in Cr or Lakh. \n",
    "    It converts these values into normal numbers using the values from Price_Notation column \n",
    "    and assigns new numeric values to New_Price column.'''\n",
    "    \n",
    "    price_number = row['New_Price']\n",
    "    price_text = row['Price_Notation']\n",
    "     \n",
    "    conversion_factors ={\n",
    "        'lakh':100000,\n",
    "        'cr':10000000\n",
    "    }\n",
    "    \n",
    "    return price_number * conversion_factors.get(price_text, 1)"
   ]
  },
  {
   "cell_type": "code",
   "execution_count": 3,
   "id": "83c150c3",
   "metadata": {},
   "outputs": [],
   "source": [
    "def convert_to_kilometer_per_litr(row):\n",
    "    \n",
    "    \"\"\"The function converts the values in Fuel_Consumption column to kilometer per litr \n",
    "    based on the metrics in Consumption_Measure column\"\"\"\n",
    "    \n",
    "    consumption = row['Fuel_Consumption']\n",
    "    measure = row['Consumption_Measure']\n",
    "    \n",
    "    conversion_factors = {'kmpl': 1,\n",
    "                          'km/kg': 1.40}  # Invert conversion factor for km/kg\n",
    "    \n",
    "    return consumption * conversion_factors.get(measure, 1)"
   ]
  },
  {
   "cell_type": "markdown",
   "id": "c92f4fd4",
   "metadata": {},
   "source": [
    "## Initial Data Examination and Exploration"
   ]
  },
  {
   "cell_type": "code",
   "execution_count": 4,
   "id": "e503ecde",
   "metadata": {},
   "outputs": [],
   "source": [
    "used_cars = pd.read_csv('used_cars_data.csv')"
   ]
  },
  {
   "cell_type": "code",
   "execution_count": 5,
   "id": "28012558",
   "metadata": {},
   "outputs": [
    {
     "data": {
      "text/html": [
       "<div>\n",
       "<style scoped>\n",
       "    .dataframe tbody tr th:only-of-type {\n",
       "        vertical-align: middle;\n",
       "    }\n",
       "\n",
       "    .dataframe tbody tr th {\n",
       "        vertical-align: top;\n",
       "    }\n",
       "\n",
       "    .dataframe thead th {\n",
       "        text-align: right;\n",
       "    }\n",
       "</style>\n",
       "<table border=\"1\" class=\"dataframe\">\n",
       "  <thead>\n",
       "    <tr style=\"text-align: right;\">\n",
       "      <th></th>\n",
       "      <th>S.No.</th>\n",
       "      <th>Name</th>\n",
       "      <th>Location</th>\n",
       "      <th>Year</th>\n",
       "      <th>Kilometers_Driven</th>\n",
       "      <th>Fuel_Type</th>\n",
       "      <th>Transmission</th>\n",
       "      <th>Owner_Type</th>\n",
       "      <th>Mileage</th>\n",
       "      <th>Engine</th>\n",
       "      <th>Power</th>\n",
       "      <th>Seats</th>\n",
       "      <th>New_Price</th>\n",
       "      <th>Price</th>\n",
       "    </tr>\n",
       "  </thead>\n",
       "  <tbody>\n",
       "    <tr>\n",
       "      <th>4289</th>\n",
       "      <td>4289</td>\n",
       "      <td>Hyundai Verna Transform Xxi ABS</td>\n",
       "      <td>Bangalore</td>\n",
       "      <td>2011</td>\n",
       "      <td>60000</td>\n",
       "      <td>Petrol</td>\n",
       "      <td>Manual</td>\n",
       "      <td>First</td>\n",
       "      <td>16.2 kmpl</td>\n",
       "      <td>1599 CC</td>\n",
       "      <td>103.2 bhp</td>\n",
       "      <td>5.0</td>\n",
       "      <td>NaN</td>\n",
       "      <td>3.95</td>\n",
       "    </tr>\n",
       "    <tr>\n",
       "      <th>3718</th>\n",
       "      <td>3718</td>\n",
       "      <td>Volkswagen Polo Diesel Comfortline 1.2L</td>\n",
       "      <td>Delhi</td>\n",
       "      <td>2013</td>\n",
       "      <td>77445</td>\n",
       "      <td>Diesel</td>\n",
       "      <td>Manual</td>\n",
       "      <td>First</td>\n",
       "      <td>22.07 kmpl</td>\n",
       "      <td>1199 CC</td>\n",
       "      <td>73.9 bhp</td>\n",
       "      <td>5.0</td>\n",
       "      <td>NaN</td>\n",
       "      <td>3.75</td>\n",
       "    </tr>\n",
       "    <tr>\n",
       "      <th>1565</th>\n",
       "      <td>1565</td>\n",
       "      <td>Volkswagen Passat Diesel Highline 2.0 TDI</td>\n",
       "      <td>Chennai</td>\n",
       "      <td>2011</td>\n",
       "      <td>95000</td>\n",
       "      <td>Diesel</td>\n",
       "      <td>Automatic</td>\n",
       "      <td>Second</td>\n",
       "      <td>18.33 kmpl</td>\n",
       "      <td>1968 CC</td>\n",
       "      <td>167.7 bhp</td>\n",
       "      <td>5.0</td>\n",
       "      <td>NaN</td>\n",
       "      <td>8.50</td>\n",
       "    </tr>\n",
       "    <tr>\n",
       "      <th>3294</th>\n",
       "      <td>3294</td>\n",
       "      <td>Chevrolet Beat LT</td>\n",
       "      <td>Pune</td>\n",
       "      <td>2011</td>\n",
       "      <td>48000</td>\n",
       "      <td>Petrol</td>\n",
       "      <td>Manual</td>\n",
       "      <td>Second</td>\n",
       "      <td>18.6 kmpl</td>\n",
       "      <td>1199 CC</td>\n",
       "      <td>79.4 bhp</td>\n",
       "      <td>5.0</td>\n",
       "      <td>NaN</td>\n",
       "      <td>1.80</td>\n",
       "    </tr>\n",
       "    <tr>\n",
       "      <th>2823</th>\n",
       "      <td>2823</td>\n",
       "      <td>Volkswagen Jetta 2013-2015 2.0L TDI Highline AT</td>\n",
       "      <td>Chennai</td>\n",
       "      <td>2015</td>\n",
       "      <td>480000</td>\n",
       "      <td>Diesel</td>\n",
       "      <td>Automatic</td>\n",
       "      <td>First</td>\n",
       "      <td>16.96 kmpl</td>\n",
       "      <td>1968 CC</td>\n",
       "      <td>138.03 bhp</td>\n",
       "      <td>5.0</td>\n",
       "      <td>NaN</td>\n",
       "      <td>13.00</td>\n",
       "    </tr>\n",
       "    <tr>\n",
       "      <th>192</th>\n",
       "      <td>192</td>\n",
       "      <td>Ford Figo Diesel ZXI</td>\n",
       "      <td>Chennai</td>\n",
       "      <td>2010</td>\n",
       "      <td>120000</td>\n",
       "      <td>Diesel</td>\n",
       "      <td>Manual</td>\n",
       "      <td>First</td>\n",
       "      <td>20.0 kmpl</td>\n",
       "      <td>1399 CC</td>\n",
       "      <td>68 bhp</td>\n",
       "      <td>5.0</td>\n",
       "      <td>NaN</td>\n",
       "      <td>2.60</td>\n",
       "    </tr>\n",
       "    <tr>\n",
       "      <th>4093</th>\n",
       "      <td>4093</td>\n",
       "      <td>Maruti Ciaz ZDi</td>\n",
       "      <td>Delhi</td>\n",
       "      <td>2015</td>\n",
       "      <td>46166</td>\n",
       "      <td>Diesel</td>\n",
       "      <td>Manual</td>\n",
       "      <td>Second</td>\n",
       "      <td>26.21 kmpl</td>\n",
       "      <td>1248 CC</td>\n",
       "      <td>88.5 bhp</td>\n",
       "      <td>5.0</td>\n",
       "      <td>NaN</td>\n",
       "      <td>5.50</td>\n",
       "    </tr>\n",
       "    <tr>\n",
       "      <th>4</th>\n",
       "      <td>4</td>\n",
       "      <td>Audi A4 New 2.0 TDI Multitronic</td>\n",
       "      <td>Coimbatore</td>\n",
       "      <td>2013</td>\n",
       "      <td>40670</td>\n",
       "      <td>Diesel</td>\n",
       "      <td>Automatic</td>\n",
       "      <td>Second</td>\n",
       "      <td>15.2 kmpl</td>\n",
       "      <td>1968 CC</td>\n",
       "      <td>140.8 bhp</td>\n",
       "      <td>5.0</td>\n",
       "      <td>NaN</td>\n",
       "      <td>17.74</td>\n",
       "    </tr>\n",
       "    <tr>\n",
       "      <th>6934</th>\n",
       "      <td>6934</td>\n",
       "      <td>Maruti A-Star Vxi</td>\n",
       "      <td>Chennai</td>\n",
       "      <td>2009</td>\n",
       "      <td>53000</td>\n",
       "      <td>Petrol</td>\n",
       "      <td>Manual</td>\n",
       "      <td>Second</td>\n",
       "      <td>19.0 kmpl</td>\n",
       "      <td>998 CC</td>\n",
       "      <td>66.1 bhp</td>\n",
       "      <td>5.0</td>\n",
       "      <td>NaN</td>\n",
       "      <td>NaN</td>\n",
       "    </tr>\n",
       "    <tr>\n",
       "      <th>5589</th>\n",
       "      <td>5589</td>\n",
       "      <td>Hyundai Elantra CRDi SX</td>\n",
       "      <td>Ahmedabad</td>\n",
       "      <td>2018</td>\n",
       "      <td>35000</td>\n",
       "      <td>Diesel</td>\n",
       "      <td>Manual</td>\n",
       "      <td>First</td>\n",
       "      <td>22.7 kmpl</td>\n",
       "      <td>1582 CC</td>\n",
       "      <td>126.2 bhp</td>\n",
       "      <td>5.0</td>\n",
       "      <td>NaN</td>\n",
       "      <td>15.00</td>\n",
       "    </tr>\n",
       "    <tr>\n",
       "      <th>4570</th>\n",
       "      <td>4570</td>\n",
       "      <td>Maruti Vitara Brezza ZDi Plus AMT Dual Tone</td>\n",
       "      <td>Chennai</td>\n",
       "      <td>2018</td>\n",
       "      <td>3300</td>\n",
       "      <td>Diesel</td>\n",
       "      <td>Automatic</td>\n",
       "      <td>First</td>\n",
       "      <td>24.3 kmpl</td>\n",
       "      <td>1248 CC</td>\n",
       "      <td>88.5 bhp</td>\n",
       "      <td>5.0</td>\n",
       "      <td>12.88 Lakh</td>\n",
       "      <td>11.50</td>\n",
       "    </tr>\n",
       "    <tr>\n",
       "      <th>3694</th>\n",
       "      <td>3694</td>\n",
       "      <td>Honda Amaze VX i-DTEC</td>\n",
       "      <td>Hyderabad</td>\n",
       "      <td>2014</td>\n",
       "      <td>74885</td>\n",
       "      <td>Diesel</td>\n",
       "      <td>Manual</td>\n",
       "      <td>First</td>\n",
       "      <td>25.8 kmpl</td>\n",
       "      <td>1498 CC</td>\n",
       "      <td>98.6 bhp</td>\n",
       "      <td>5.0</td>\n",
       "      <td>NaN</td>\n",
       "      <td>5.40</td>\n",
       "    </tr>\n",
       "    <tr>\n",
       "      <th>2131</th>\n",
       "      <td>2131</td>\n",
       "      <td>Honda City 1.5 V MT Exclusive</td>\n",
       "      <td>Mumbai</td>\n",
       "      <td>2013</td>\n",
       "      <td>45000</td>\n",
       "      <td>Petrol</td>\n",
       "      <td>Manual</td>\n",
       "      <td>First</td>\n",
       "      <td>17.0 kmpl</td>\n",
       "      <td>1497 CC</td>\n",
       "      <td>118 bhp</td>\n",
       "      <td>5.0</td>\n",
       "      <td>NaN</td>\n",
       "      <td>4.55</td>\n",
       "    </tr>\n",
       "    <tr>\n",
       "      <th>5175</th>\n",
       "      <td>5175</td>\n",
       "      <td>BMW 5 Series 530d M Sport</td>\n",
       "      <td>Chennai</td>\n",
       "      <td>2010</td>\n",
       "      <td>58000</td>\n",
       "      <td>Diesel</td>\n",
       "      <td>Automatic</td>\n",
       "      <td>First</td>\n",
       "      <td>18.59 kmpl</td>\n",
       "      <td>2993 CC</td>\n",
       "      <td>265 bhp</td>\n",
       "      <td>5.0</td>\n",
       "      <td>79.78 Lakh</td>\n",
       "      <td>11.75</td>\n",
       "    </tr>\n",
       "    <tr>\n",
       "      <th>1043</th>\n",
       "      <td>1043</td>\n",
       "      <td>Nissan Terrano XV Premium 110 PS</td>\n",
       "      <td>Kochi</td>\n",
       "      <td>2015</td>\n",
       "      <td>43190</td>\n",
       "      <td>Diesel</td>\n",
       "      <td>Manual</td>\n",
       "      <td>First</td>\n",
       "      <td>19.01 kmpl</td>\n",
       "      <td>1461 CC</td>\n",
       "      <td>108.5 bhp</td>\n",
       "      <td>5.0</td>\n",
       "      <td>NaN</td>\n",
       "      <td>7.61</td>\n",
       "    </tr>\n",
       "  </tbody>\n",
       "</table>\n",
       "</div>"
      ],
      "text/plain": [
       "      S.No.                                             Name    Location  \\\n",
       "4289   4289                  Hyundai Verna Transform Xxi ABS   Bangalore   \n",
       "3718   3718          Volkswagen Polo Diesel Comfortline 1.2L       Delhi   \n",
       "1565   1565        Volkswagen Passat Diesel Highline 2.0 TDI     Chennai   \n",
       "3294   3294                                Chevrolet Beat LT        Pune   \n",
       "2823   2823  Volkswagen Jetta 2013-2015 2.0L TDI Highline AT     Chennai   \n",
       "192     192                             Ford Figo Diesel ZXI     Chennai   \n",
       "4093   4093                                  Maruti Ciaz ZDi       Delhi   \n",
       "4         4                  Audi A4 New 2.0 TDI Multitronic  Coimbatore   \n",
       "6934   6934                                Maruti A-Star Vxi     Chennai   \n",
       "5589   5589                          Hyundai Elantra CRDi SX   Ahmedabad   \n",
       "4570   4570      Maruti Vitara Brezza ZDi Plus AMT Dual Tone     Chennai   \n",
       "3694   3694                            Honda Amaze VX i-DTEC   Hyderabad   \n",
       "2131   2131                    Honda City 1.5 V MT Exclusive      Mumbai   \n",
       "5175   5175                        BMW 5 Series 530d M Sport     Chennai   \n",
       "1043   1043                 Nissan Terrano XV Premium 110 PS       Kochi   \n",
       "\n",
       "      Year  Kilometers_Driven Fuel_Type Transmission Owner_Type     Mileage  \\\n",
       "4289  2011              60000    Petrol       Manual      First   16.2 kmpl   \n",
       "3718  2013              77445    Diesel       Manual      First  22.07 kmpl   \n",
       "1565  2011              95000    Diesel    Automatic     Second  18.33 kmpl   \n",
       "3294  2011              48000    Petrol       Manual     Second   18.6 kmpl   \n",
       "2823  2015             480000    Diesel    Automatic      First  16.96 kmpl   \n",
       "192   2010             120000    Diesel       Manual      First   20.0 kmpl   \n",
       "4093  2015              46166    Diesel       Manual     Second  26.21 kmpl   \n",
       "4     2013              40670    Diesel    Automatic     Second   15.2 kmpl   \n",
       "6934  2009              53000    Petrol       Manual     Second   19.0 kmpl   \n",
       "5589  2018              35000    Diesel       Manual      First   22.7 kmpl   \n",
       "4570  2018               3300    Diesel    Automatic      First   24.3 kmpl   \n",
       "3694  2014              74885    Diesel       Manual      First   25.8 kmpl   \n",
       "2131  2013              45000    Petrol       Manual      First   17.0 kmpl   \n",
       "5175  2010              58000    Diesel    Automatic      First  18.59 kmpl   \n",
       "1043  2015              43190    Diesel       Manual      First  19.01 kmpl   \n",
       "\n",
       "       Engine       Power  Seats   New_Price  Price  \n",
       "4289  1599 CC   103.2 bhp    5.0         NaN   3.95  \n",
       "3718  1199 CC    73.9 bhp    5.0         NaN   3.75  \n",
       "1565  1968 CC   167.7 bhp    5.0         NaN   8.50  \n",
       "3294  1199 CC    79.4 bhp    5.0         NaN   1.80  \n",
       "2823  1968 CC  138.03 bhp    5.0         NaN  13.00  \n",
       "192   1399 CC      68 bhp    5.0         NaN   2.60  \n",
       "4093  1248 CC    88.5 bhp    5.0         NaN   5.50  \n",
       "4     1968 CC   140.8 bhp    5.0         NaN  17.74  \n",
       "6934   998 CC    66.1 bhp    5.0         NaN    NaN  \n",
       "5589  1582 CC   126.2 bhp    5.0         NaN  15.00  \n",
       "4570  1248 CC    88.5 bhp    5.0  12.88 Lakh  11.50  \n",
       "3694  1498 CC    98.6 bhp    5.0         NaN   5.40  \n",
       "2131  1497 CC     118 bhp    5.0         NaN   4.55  \n",
       "5175  2993 CC     265 bhp    5.0  79.78 Lakh  11.75  \n",
       "1043  1461 CC   108.5 bhp    5.0         NaN   7.61  "
      ]
     },
     "execution_count": 5,
     "metadata": {},
     "output_type": "execute_result"
    }
   ],
   "source": [
    "used_cars.sample(15, random_state = 123)"
   ]
  },
  {
   "cell_type": "code",
   "execution_count": 6,
   "id": "bf0334f1",
   "metadata": {},
   "outputs": [
    {
     "data": {
      "text/plain": [
       "(7253, 14)"
      ]
     },
     "execution_count": 6,
     "metadata": {},
     "output_type": "execute_result"
    }
   ],
   "source": [
    "used_cars.shape"
   ]
  },
  {
   "cell_type": "code",
   "execution_count": 7,
   "id": "a585c72f",
   "metadata": {},
   "outputs": [
    {
     "data": {
      "text/html": [
       "<div>\n",
       "<style scoped>\n",
       "    .dataframe tbody tr th:only-of-type {\n",
       "        vertical-align: middle;\n",
       "    }\n",
       "\n",
       "    .dataframe tbody tr th {\n",
       "        vertical-align: top;\n",
       "    }\n",
       "\n",
       "    .dataframe thead th {\n",
       "        text-align: right;\n",
       "    }\n",
       "</style>\n",
       "<table border=\"1\" class=\"dataframe\">\n",
       "  <thead>\n",
       "    <tr style=\"text-align: right;\">\n",
       "      <th></th>\n",
       "      <th>S.No.</th>\n",
       "      <th>Year</th>\n",
       "      <th>Kilometers_Driven</th>\n",
       "      <th>Seats</th>\n",
       "      <th>Price</th>\n",
       "    </tr>\n",
       "  </thead>\n",
       "  <tbody>\n",
       "    <tr>\n",
       "      <th>count</th>\n",
       "      <td>7253.000000</td>\n",
       "      <td>7253.000000</td>\n",
       "      <td>7.253000e+03</td>\n",
       "      <td>7200.000000</td>\n",
       "      <td>6019.000000</td>\n",
       "    </tr>\n",
       "    <tr>\n",
       "      <th>mean</th>\n",
       "      <td>3626.000000</td>\n",
       "      <td>2013.365366</td>\n",
       "      <td>5.869906e+04</td>\n",
       "      <td>5.279722</td>\n",
       "      <td>9.479468</td>\n",
       "    </tr>\n",
       "    <tr>\n",
       "      <th>std</th>\n",
       "      <td>2093.905084</td>\n",
       "      <td>3.254421</td>\n",
       "      <td>8.442772e+04</td>\n",
       "      <td>0.811660</td>\n",
       "      <td>11.187917</td>\n",
       "    </tr>\n",
       "    <tr>\n",
       "      <th>min</th>\n",
       "      <td>0.000000</td>\n",
       "      <td>1996.000000</td>\n",
       "      <td>1.710000e+02</td>\n",
       "      <td>0.000000</td>\n",
       "      <td>0.440000</td>\n",
       "    </tr>\n",
       "    <tr>\n",
       "      <th>25%</th>\n",
       "      <td>1813.000000</td>\n",
       "      <td>2011.000000</td>\n",
       "      <td>3.400000e+04</td>\n",
       "      <td>5.000000</td>\n",
       "      <td>3.500000</td>\n",
       "    </tr>\n",
       "    <tr>\n",
       "      <th>50%</th>\n",
       "      <td>3626.000000</td>\n",
       "      <td>2014.000000</td>\n",
       "      <td>5.341600e+04</td>\n",
       "      <td>5.000000</td>\n",
       "      <td>5.640000</td>\n",
       "    </tr>\n",
       "    <tr>\n",
       "      <th>75%</th>\n",
       "      <td>5439.000000</td>\n",
       "      <td>2016.000000</td>\n",
       "      <td>7.300000e+04</td>\n",
       "      <td>5.000000</td>\n",
       "      <td>9.950000</td>\n",
       "    </tr>\n",
       "    <tr>\n",
       "      <th>max</th>\n",
       "      <td>7252.000000</td>\n",
       "      <td>2019.000000</td>\n",
       "      <td>6.500000e+06</td>\n",
       "      <td>10.000000</td>\n",
       "      <td>160.000000</td>\n",
       "    </tr>\n",
       "  </tbody>\n",
       "</table>\n",
       "</div>"
      ],
      "text/plain": [
       "             S.No.         Year  Kilometers_Driven        Seats        Price\n",
       "count  7253.000000  7253.000000       7.253000e+03  7200.000000  6019.000000\n",
       "mean   3626.000000  2013.365366       5.869906e+04     5.279722     9.479468\n",
       "std    2093.905084     3.254421       8.442772e+04     0.811660    11.187917\n",
       "min       0.000000  1996.000000       1.710000e+02     0.000000     0.440000\n",
       "25%    1813.000000  2011.000000       3.400000e+04     5.000000     3.500000\n",
       "50%    3626.000000  2014.000000       5.341600e+04     5.000000     5.640000\n",
       "75%    5439.000000  2016.000000       7.300000e+04     5.000000     9.950000\n",
       "max    7252.000000  2019.000000       6.500000e+06    10.000000   160.000000"
      ]
     },
     "execution_count": 7,
     "metadata": {},
     "output_type": "execute_result"
    }
   ],
   "source": [
    "used_cars.describe()"
   ]
  },
  {
   "cell_type": "code",
   "execution_count": 8,
   "id": "43ed82d8",
   "metadata": {},
   "outputs": [
    {
     "name": "stdout",
     "output_type": "stream",
     "text": [
      "<class 'pandas.core.frame.DataFrame'>\n",
      "RangeIndex: 7253 entries, 0 to 7252\n",
      "Data columns (total 14 columns):\n",
      " #   Column             Non-Null Count  Dtype  \n",
      "---  ------             --------------  -----  \n",
      " 0   S.No.              7253 non-null   int64  \n",
      " 1   Name               7253 non-null   object \n",
      " 2   Location           7253 non-null   object \n",
      " 3   Year               7253 non-null   int64  \n",
      " 4   Kilometers_Driven  7253 non-null   int64  \n",
      " 5   Fuel_Type          7253 non-null   object \n",
      " 6   Transmission       7253 non-null   object \n",
      " 7   Owner_Type         7253 non-null   object \n",
      " 8   Mileage            7251 non-null   object \n",
      " 9   Engine             7207 non-null   object \n",
      " 10  Power              7207 non-null   object \n",
      " 11  Seats              7200 non-null   float64\n",
      " 12  New_Price          1006 non-null   object \n",
      " 13  Price              6019 non-null   float64\n",
      "dtypes: float64(2), int64(3), object(9)\n",
      "memory usage: 793.4+ KB\n"
     ]
    }
   ],
   "source": [
    "used_cars.info()"
   ]
  },
  {
   "cell_type": "code",
   "execution_count": 9,
   "id": "20dd1b5e",
   "metadata": {},
   "outputs": [
    {
     "data": {
      "text/plain": [
       "['S.No.',\n",
       " 'Name',\n",
       " 'Location',\n",
       " 'Year',\n",
       " 'Kilometers_Driven',\n",
       " 'Fuel_Type',\n",
       " 'Transmission',\n",
       " 'Owner_Type',\n",
       " 'Mileage',\n",
       " 'Engine',\n",
       " 'Power',\n",
       " 'Seats',\n",
       " 'New_Price',\n",
       " 'Price']"
      ]
     },
     "execution_count": 9,
     "metadata": {},
     "output_type": "execute_result"
    }
   ],
   "source": [
    "used_cars.columns.tolist()"
   ]
  },
  {
   "cell_type": "code",
   "execution_count": 10,
   "id": "1357456e",
   "metadata": {},
   "outputs": [
    {
     "data": {
      "text/plain": [
       "S.No.                   0\n",
       "Name                    0\n",
       "Location                0\n",
       "Year                    0\n",
       "Kilometers_Driven       0\n",
       "Fuel_Type               0\n",
       "Transmission            0\n",
       "Owner_Type              0\n",
       "Mileage                 2\n",
       "Engine                 46\n",
       "Power                  46\n",
       "Seats                  53\n",
       "New_Price            6247\n",
       "Price                1234\n",
       "dtype: int64"
      ]
     },
     "execution_count": 10,
     "metadata": {},
     "output_type": "execute_result"
    }
   ],
   "source": [
    "used_cars.isna().sum()"
   ]
  },
  {
   "cell_type": "markdown",
   "id": "a96f6a85",
   "metadata": {},
   "source": [
    "# Data Manipulation for Further Analysis"
   ]
  },
  {
   "cell_type": "markdown",
   "id": "af7cde70",
   "metadata": {},
   "source": [
    "### In 'Power', 'Engine', 'Mileage' & 'New_Price' columns splitting numbers and respective metrics"
   ]
  },
  {
   "cell_type": "code",
   "execution_count": 11,
   "id": "2c53bc93",
   "metadata": {},
   "outputs": [],
   "source": [
    "used_cars[['Horse_Power', 'Horse_Power_Unit']] = used_cars['Power'].str.split(' ', expand=True)"
   ]
  },
  {
   "cell_type": "code",
   "execution_count": 12,
   "id": "daddcdb9",
   "metadata": {},
   "outputs": [
    {
     "data": {
      "text/html": [
       "<div>\n",
       "<style scoped>\n",
       "    .dataframe tbody tr th:only-of-type {\n",
       "        vertical-align: middle;\n",
       "    }\n",
       "\n",
       "    .dataframe tbody tr th {\n",
       "        vertical-align: top;\n",
       "    }\n",
       "\n",
       "    .dataframe thead th {\n",
       "        text-align: right;\n",
       "    }\n",
       "</style>\n",
       "<table border=\"1\" class=\"dataframe\">\n",
       "  <thead>\n",
       "    <tr style=\"text-align: right;\">\n",
       "      <th></th>\n",
       "      <th>Horse_Power</th>\n",
       "      <th>Horse_Power_Unit</th>\n",
       "    </tr>\n",
       "  </thead>\n",
       "  <tbody>\n",
       "    <tr>\n",
       "      <th>0</th>\n",
       "      <td>58.16</td>\n",
       "      <td>bhp</td>\n",
       "    </tr>\n",
       "    <tr>\n",
       "      <th>1</th>\n",
       "      <td>126.2</td>\n",
       "      <td>bhp</td>\n",
       "    </tr>\n",
       "  </tbody>\n",
       "</table>\n",
       "</div>"
      ],
      "text/plain": [
       "  Horse_Power Horse_Power_Unit\n",
       "0       58.16              bhp\n",
       "1       126.2              bhp"
      ]
     },
     "execution_count": 12,
     "metadata": {},
     "output_type": "execute_result"
    }
   ],
   "source": [
    "used_cars[['Horse_Power', 'Horse_Power_Unit']].head(2)"
   ]
  },
  {
   "cell_type": "code",
   "execution_count": 13,
   "id": "47691a2a",
   "metadata": {},
   "outputs": [],
   "source": [
    "# There are values equal to string 'null' in 'Hourse_Power' that needs to be treated \n",
    "used_cars.loc[used_cars['Horse_Power'] == 'null', 'Horse_Power'] = pd.NA"
   ]
  },
  {
   "cell_type": "code",
   "execution_count": 14,
   "id": "a43ac436",
   "metadata": {},
   "outputs": [],
   "source": [
    "# Converting 'Hours_Power' column to numeric type\n",
    "used_cars['Horse_Power'] = pd.to_numeric(used_cars['Horse_Power'])"
   ]
  },
  {
   "cell_type": "markdown",
   "id": "799f77f3",
   "metadata": {},
   "source": [
    "#### splitting values in Engine column"
   ]
  },
  {
   "cell_type": "code",
   "execution_count": 15,
   "id": "735f6e49",
   "metadata": {},
   "outputs": [],
   "source": [
    "used_cars[['Engine_Power', 'Engine_Power_Unit']] = used_cars['Engine'].str.split(' ', expand=True)"
   ]
  },
  {
   "cell_type": "code",
   "execution_count": 16,
   "id": "ce5382f2",
   "metadata": {},
   "outputs": [
    {
     "data": {
      "text/html": [
       "<div>\n",
       "<style scoped>\n",
       "    .dataframe tbody tr th:only-of-type {\n",
       "        vertical-align: middle;\n",
       "    }\n",
       "\n",
       "    .dataframe tbody tr th {\n",
       "        vertical-align: top;\n",
       "    }\n",
       "\n",
       "    .dataframe thead th {\n",
       "        text-align: right;\n",
       "    }\n",
       "</style>\n",
       "<table border=\"1\" class=\"dataframe\">\n",
       "  <thead>\n",
       "    <tr style=\"text-align: right;\">\n",
       "      <th></th>\n",
       "      <th>Engine_Power</th>\n",
       "      <th>Engine_Power_Unit</th>\n",
       "    </tr>\n",
       "  </thead>\n",
       "  <tbody>\n",
       "    <tr>\n",
       "      <th>0</th>\n",
       "      <td>998</td>\n",
       "      <td>CC</td>\n",
       "    </tr>\n",
       "    <tr>\n",
       "      <th>1</th>\n",
       "      <td>1582</td>\n",
       "      <td>CC</td>\n",
       "    </tr>\n",
       "  </tbody>\n",
       "</table>\n",
       "</div>"
      ],
      "text/plain": [
       "  Engine_Power Engine_Power_Unit\n",
       "0          998                CC\n",
       "1         1582                CC"
      ]
     },
     "execution_count": 16,
     "metadata": {},
     "output_type": "execute_result"
    }
   ],
   "source": [
    "used_cars[['Engine_Power', 'Engine_Power_Unit']].head(2)"
   ]
  },
  {
   "cell_type": "markdown",
   "id": "1642035e",
   "metadata": {},
   "source": [
    "#### splitting values in New_Price column"
   ]
  },
  {
   "cell_type": "code",
   "execution_count": 17,
   "id": "a1bb549a",
   "metadata": {},
   "outputs": [],
   "source": [
    "used_cars[['New_Price', 'Price_Notation']] = used_cars['New_Price'].str.split(' ', expand = True)"
   ]
  },
  {
   "cell_type": "code",
   "execution_count": 18,
   "id": "1bf8c9fb",
   "metadata": {},
   "outputs": [],
   "source": [
    "used_cars['New_Price'] = used_cars['New_Price'].str.strip()"
   ]
  },
  {
   "cell_type": "code",
   "execution_count": 19,
   "id": "2730013d",
   "metadata": {},
   "outputs": [],
   "source": [
    "used_cars['New_Price'] = pd.to_numeric(used_cars['New_Price'])"
   ]
  },
  {
   "cell_type": "code",
   "execution_count": 20,
   "id": "7bbdc26a",
   "metadata": {},
   "outputs": [],
   "source": [
    "# Apply the function to convert everything to rupee in New_Price\n",
    "used_cars['New_Price'] = used_cars.apply(calculate_price_in_rupee, axis=1)"
   ]
  },
  {
   "cell_type": "code",
   "execution_count": 21,
   "id": "a4e898ba",
   "metadata": {},
   "outputs": [
    {
     "data": {
      "text/html": [
       "<div>\n",
       "<style scoped>\n",
       "    .dataframe tbody tr th:only-of-type {\n",
       "        vertical-align: middle;\n",
       "    }\n",
       "\n",
       "    .dataframe tbody tr th {\n",
       "        vertical-align: top;\n",
       "    }\n",
       "\n",
       "    .dataframe thead th {\n",
       "        text-align: right;\n",
       "    }\n",
       "</style>\n",
       "<table border=\"1\" class=\"dataframe\">\n",
       "  <thead>\n",
       "    <tr style=\"text-align: right;\">\n",
       "      <th></th>\n",
       "      <th>New_Price</th>\n",
       "      <th>Price_Notation</th>\n",
       "    </tr>\n",
       "  </thead>\n",
       "  <tbody>\n",
       "    <tr>\n",
       "      <th>2397</th>\n",
       "      <td>9.47</td>\n",
       "      <td>Lakh</td>\n",
       "    </tr>\n",
       "    <tr>\n",
       "      <th>3777</th>\n",
       "      <td>5.44</td>\n",
       "      <td>Lakh</td>\n",
       "    </tr>\n",
       "  </tbody>\n",
       "</table>\n",
       "</div>"
      ],
      "text/plain": [
       "      New_Price Price_Notation\n",
       "2397       9.47           Lakh\n",
       "3777       5.44           Lakh"
      ]
     },
     "execution_count": 21,
     "metadata": {},
     "output_type": "execute_result"
    }
   ],
   "source": [
    "used_cars[['New_Price', 'Price_Notation']].sample(2,random_state = 1)"
   ]
  },
  {
   "cell_type": "markdown",
   "id": "613dff01",
   "metadata": {},
   "source": [
    "#### splitting values in Mileage"
   ]
  },
  {
   "cell_type": "code",
   "execution_count": 22,
   "id": "3071ac56",
   "metadata": {},
   "outputs": [],
   "source": [
    "used_cars[['Fuel_Consumption', 'Consumption_Measure']] = used_cars['Mileage'].str.split(' ', expand = True)"
   ]
  },
  {
   "cell_type": "code",
   "execution_count": 23,
   "id": "0321ddfd",
   "metadata": {},
   "outputs": [],
   "source": [
    "used_cars['Fuel_Consumption'] = pd.to_numeric(used_cars['Fuel_Consumption'])"
   ]
  },
  {
   "cell_type": "code",
   "execution_count": 24,
   "id": "54a16b12",
   "metadata": {},
   "outputs": [
    {
     "data": {
      "text/html": [
       "<div>\n",
       "<style scoped>\n",
       "    .dataframe tbody tr th:only-of-type {\n",
       "        vertical-align: middle;\n",
       "    }\n",
       "\n",
       "    .dataframe tbody tr th {\n",
       "        vertical-align: top;\n",
       "    }\n",
       "\n",
       "    .dataframe thead th {\n",
       "        text-align: right;\n",
       "    }\n",
       "</style>\n",
       "<table border=\"1\" class=\"dataframe\">\n",
       "  <thead>\n",
       "    <tr style=\"text-align: right;\">\n",
       "      <th></th>\n",
       "      <th>Fuel_Consumption</th>\n",
       "      <th>Consumption_Measure</th>\n",
       "    </tr>\n",
       "  </thead>\n",
       "  <tbody>\n",
       "    <tr>\n",
       "      <th>0</th>\n",
       "      <td>26.60</td>\n",
       "      <td>km/kg</td>\n",
       "    </tr>\n",
       "    <tr>\n",
       "      <th>1</th>\n",
       "      <td>19.67</td>\n",
       "      <td>kmpl</td>\n",
       "    </tr>\n",
       "  </tbody>\n",
       "</table>\n",
       "</div>"
      ],
      "text/plain": [
       "   Fuel_Consumption Consumption_Measure\n",
       "0             26.60               km/kg\n",
       "1             19.67                kmpl"
      ]
     },
     "execution_count": 24,
     "metadata": {},
     "output_type": "execute_result"
    }
   ],
   "source": [
    "used_cars[['Fuel_Consumption', 'Consumption_Measure']].head(2)"
   ]
  },
  {
   "cell_type": "markdown",
   "id": "096fd7c0",
   "metadata": {},
   "source": [
    "<span style ='color:red'>[Note] There are two different measures in Mileage_Measure column that must be converted to identical measure</span>"
   ]
  },
  {
   "cell_type": "code",
   "execution_count": 25,
   "id": "828d3045",
   "metadata": {},
   "outputs": [
    {
     "data": {
      "text/plain": [
       "Consumption_Measure\n",
       "kmpl     7177\n",
       "km/kg      74\n",
       "Name: count, dtype: int64"
      ]
     },
     "execution_count": 25,
     "metadata": {},
     "output_type": "execute_result"
    }
   ],
   "source": [
    "used_cars['Consumption_Measure'].value_counts()"
   ]
  },
  {
   "cell_type": "markdown",
   "id": "a8d53714",
   "metadata": {},
   "source": [
    "### Adding new column: Fuel_Consumption_kmpl, where all measures are converted to kmpl"
   ]
  },
  {
   "cell_type": "code",
   "execution_count": 26,
   "id": "dfb75c6c",
   "metadata": {},
   "outputs": [],
   "source": [
    "used_cars['Fuel_Consumption_kmpl'] = used_cars.apply(convert_to_kilometer_per_litr, axis=1)"
   ]
  },
  {
   "cell_type": "code",
   "execution_count": 27,
   "id": "98cb5782",
   "metadata": {},
   "outputs": [
    {
     "data": {
      "text/html": [
       "<div>\n",
       "<style scoped>\n",
       "    .dataframe tbody tr th:only-of-type {\n",
       "        vertical-align: middle;\n",
       "    }\n",
       "\n",
       "    .dataframe tbody tr th {\n",
       "        vertical-align: top;\n",
       "    }\n",
       "\n",
       "    .dataframe thead th {\n",
       "        text-align: right;\n",
       "    }\n",
       "</style>\n",
       "<table border=\"1\" class=\"dataframe\">\n",
       "  <thead>\n",
       "    <tr style=\"text-align: right;\">\n",
       "      <th></th>\n",
       "      <th>Fuel_Consumption_kmpl</th>\n",
       "      <th>Mileage</th>\n",
       "    </tr>\n",
       "  </thead>\n",
       "  <tbody>\n",
       "    <tr>\n",
       "      <th>1357</th>\n",
       "      <td>37.240</td>\n",
       "      <td>26.6 km/kg</td>\n",
       "    </tr>\n",
       "    <tr>\n",
       "      <th>5178</th>\n",
       "      <td>44.506</td>\n",
       "      <td>31.79 km/kg</td>\n",
       "    </tr>\n",
       "    <tr>\n",
       "      <th>3595</th>\n",
       "      <td>24.220</td>\n",
       "      <td>17.3 km/kg</td>\n",
       "    </tr>\n",
       "    <tr>\n",
       "      <th>3180</th>\n",
       "      <td>28.000</td>\n",
       "      <td>20.0 km/kg</td>\n",
       "    </tr>\n",
       "    <tr>\n",
       "      <th>3295</th>\n",
       "      <td>37.240</td>\n",
       "      <td>26.6 km/kg</td>\n",
       "    </tr>\n",
       "  </tbody>\n",
       "</table>\n",
       "</div>"
      ],
      "text/plain": [
       "      Fuel_Consumption_kmpl      Mileage\n",
       "1357                 37.240   26.6 km/kg\n",
       "5178                 44.506  31.79 km/kg\n",
       "3595                 24.220   17.3 km/kg\n",
       "3180                 28.000   20.0 km/kg\n",
       "3295                 37.240   26.6 km/kg"
      ]
     },
     "execution_count": 27,
     "metadata": {},
     "output_type": "execute_result"
    }
   ],
   "source": [
    "used_cars[['Fuel_Consumption_kmpl','Mileage']][used_cars['Consumption_Measure']== 'km/kg'].sample(5)"
   ]
  },
  {
   "cell_type": "markdown",
   "id": "e775eb65",
   "metadata": {},
   "source": [
    "<span style ='color:red'> Since ISUZU and Isuzu are same, we must correct that </span>"
   ]
  },
  {
   "cell_type": "code",
   "execution_count": 28,
   "id": "041cb09a",
   "metadata": {},
   "outputs": [
    {
     "data": {
      "text/plain": [
       "['Maruti',\n",
       " 'Hyundai',\n",
       " 'Honda',\n",
       " 'Audi',\n",
       " 'Nissan',\n",
       " 'Toyota',\n",
       " 'Volkswagen',\n",
       " 'Tata',\n",
       " 'Land',\n",
       " 'Mitsubishi',\n",
       " 'Renault',\n",
       " 'Mercedes-Benz',\n",
       " 'BMW',\n",
       " 'Mahindra',\n",
       " 'Ford',\n",
       " 'Porsche',\n",
       " 'Datsun',\n",
       " 'Jaguar',\n",
       " 'Volvo',\n",
       " 'Chevrolet',\n",
       " 'Skoda',\n",
       " 'Mini',\n",
       " 'Fiat',\n",
       " 'Jeep',\n",
       " 'Smart',\n",
       " 'Ambassador',\n",
       " 'Isuzu',\n",
       " 'ISUZU',\n",
       " 'Force',\n",
       " 'Bentley',\n",
       " 'Lamborghini',\n",
       " 'Hindustan',\n",
       " 'OpelCorsa']"
      ]
     },
     "execution_count": 28,
     "metadata": {},
     "output_type": "execute_result"
    }
   ],
   "source": [
    "# illustrating all unique brands\n",
    "\n",
    "brand_list = list(used_cars['Name'].str.split().str[0].unique())\n",
    "brand_list"
   ]
  },
  {
   "cell_type": "code",
   "execution_count": 29,
   "id": "bd1a34e4",
   "metadata": {},
   "outputs": [],
   "source": [
    "# replacing ISUZU with Isuzu\n",
    "used_cars['Brand'] = used_cars['Name'].str.split().str[0].str.replace('ISUZU', 'Isuzu')"
   ]
  },
  {
   "cell_type": "code",
   "execution_count": 30,
   "id": "132bbc0d",
   "metadata": {},
   "outputs": [],
   "source": [
    "# replacing Land with Land Rover\n",
    "used_cars['Brand'] = used_cars['Brand'].str.replace('Land', 'Land Rover')"
   ]
  },
  {
   "cell_type": "markdown",
   "id": "8fb4dda8",
   "metadata": {},
   "source": [
    "# Changing Data Types"
   ]
  },
  {
   "cell_type": "code",
   "execution_count": 31,
   "id": "b696b1db",
   "metadata": {},
   "outputs": [],
   "source": [
    "# converting Engine_Power to numeric\n",
    "used_cars['Engine_Power'] = pd.to_numeric(used_cars['Engine_Power'])"
   ]
  },
  {
   "cell_type": "markdown",
   "id": "704fdbfa",
   "metadata": {},
   "source": [
    "# Data Visualization"
   ]
  },
  {
   "cell_type": "markdown",
   "id": "1815db04",
   "metadata": {},
   "source": [
    "### Distribution of Data"
   ]
  },
  {
   "cell_type": "code",
   "execution_count": 32,
   "id": "04bd41f3",
   "metadata": {
    "scrolled": true
   },
   "outputs": [
    {
     "data": {
      "image/png": "[encoded data removed]",
      "text/plain": [
       "<Figure size 640x480 with 1 Axes>"
      ]
     },
     "metadata": {},
     "output_type": "display_data"
    }
   ],
   "source": [
    "plt.hist(used_cars['Price'], bins=20)   \n",
    "plt.xlabel('Values')\n",
    "plt.ylabel('Frequency')\n",
    "plt.title('Distribution of Values in Price')\n",
    "plt.show()"
   ]
  },
  {
   "cell_type": "code",
   "execution_count": 33,
   "id": "27cc561d",
   "metadata": {},
   "outputs": [
    {
     "data": {
      "image/png": "[encoded data removed]",
      "text/plain": [
       "<Figure size 640x480 with 1 Axes>"
      ]
     },
     "metadata": {},
     "output_type": "display_data"
    }
   ],
   "source": [
    "# Drop NaN values from the 'Horse_Power' column\n",
    "\n",
    "data = used_cars['New_Price'].dropna()\n",
    "\n",
    "# Plot histogram\n",
    "plt.hist(data, bins=20)\n",
    "plt.xlabel('Values')\n",
    "plt.ylabel('Frequency')\n",
    "plt.title('Distribution of Values in Horse Power Column (Excluding NaN)')\n",
    "plt.show()"
   ]
  },
  {
   "cell_type": "code",
   "execution_count": 34,
   "id": "e7513015",
   "metadata": {},
   "outputs": [
    {
     "data": {
      "image/png": "[encoded data removed]",
      "text/plain": [
       "<Figure size 640x480 with 1 Axes>"
      ]
     },
     "metadata": {},
     "output_type": "display_data"
    }
   ],
   "source": [
    "plt.hist(used_cars['Horse_Power'], bins=20)  \n",
    "plt.xlabel('Values')\n",
    "plt.ylabel('Frequency')\n",
    "plt.title('Distribution of Values in Horse_Power')\n",
    "plt.show()"
   ]
  },
  {
   "cell_type": "code",
   "execution_count": 35,
   "id": "ed3e8bb2",
   "metadata": {
    "scrolled": true
   },
   "outputs": [
    {
     "data": {
      "image/png": "[encoded data removed]",
      "text/plain": [
       "<Figure size 640x480 with 1 Axes>"
      ]
     },
     "metadata": {},
     "output_type": "display_data"
    }
   ],
   "source": [
    "plt.hist(used_cars['Fuel_Consumption_kmpl'], bins=20)  \n",
    "plt.xlabel('Values')\n",
    "plt.ylabel('Frequency')\n",
    "plt.title('Distribution of Values in Fuel_Consumption_kmpl')\n",
    "plt.show()\n"
   ]
  },
  {
   "cell_type": "markdown",
   "id": "5065887c-15c2-4b5f-9a80-e5c88d15a977",
   "metadata": {},
   "source": [
    "# **Applying ML Algorithms:**\n",
    "1. Regression Model"
   ]
  },
  {
   "cell_type": "markdown",
   "id": "1126da66-114a-42b4-be5a-c7dc5390cbef",
   "metadata": {},
   "source": [
    "### Data preprocessing "
   ]
  },
  {
   "cell_type": "code",
   "execution_count": 36,
   "id": "5f64030c-6f97-4364-9557-872ca6929a15",
   "metadata": {},
   "outputs": [],
   "source": [
    "# Importing statements\n",
    "from sklearn.model_selection import train_test_split\n",
    "from sklearn.linear_model import LinearRegression\n",
    "from sklearn.metrics import mean_squared_error\n",
    "from sklearn.preprocessing import LabelEncoder\n",
    "from sklearn.impute import SimpleImputer\n",
    "from sklearn.preprocessing import OneHotEncoder"
   ]
  },
  {
   "cell_type": "markdown",
   "id": "5705abe6-c9f4-4488-a233-fcb82e71e4be",
   "metadata": {},
   "source": [
    "<span style = \"color:red\">Begining of 2nd model!!!!\"</span>"
   ]
  },
  {
   "cell_type": "code",
   "execution_count": 37,
   "id": "9d6463a2-ee7e-4e5f-905c-ccab0734ad01",
   "metadata": {},
   "outputs": [],
   "source": [
    "# Drop rows with missing values in 'New_Price' column\n",
    "data = used_cars[used_cars['New_Price'].notna()]\n",
    "\n",
    "# Drop rows with missing values in specified columns\n",
    "data = data.dropna(subset=['Fuel_Consumption', 'Consumption_Measure', 'Fuel_Consumption_kmpl'])\n",
    "\n",
    "# Fill missing values in 'Price' column with median\n",
    "median_price = data['Price'].median()\n",
    "data['Price'].fillna(median_price, inplace=True)\n",
    "\n",
    "# Drop unnecessary columns\n",
    "columns_to_remove = ['S.No.', 'Name', 'Location', 'Mileage', 'Engine', 'Power', 'Horse_Power_Unit',\n",
    "                     'Engine_Power_Unit', 'Price_Notation', 'Fuel_Consumption', 'Consumption_Measure']\n",
    "data_encoded = data.drop(columns=columns_to_remove)\n",
    "\n",
    "# Encode categorical variables using one-hot encoding\n",
    "categorical_features = ['Fuel_Type', 'Transmission', 'Owner_Type','Brand']  # Replace with actual categorical feature names\n",
    "data_encoded = pd.get_dummies(data_encoded, columns=categorical_features, drop_first=True)\n",
    "\n",
    "# Split features (X) and target variable (y)\n",
    "X = data_encoded.drop(columns=['New_Price'])  \n",
    "y = data_encoded['New_Price']\n",
    "\n",
    "# Split the dataset into training and testing sets\n",
    "X_train, X_test, y_train, y_test = train_test_split(X, y, test_size=0.2, random_state=42)\n",
    "\n",
    "# Initialize and train the linear regression model\n",
    "LR = LinearRegression().fit(X_train, y_train)\n"
   ]
  },
  {
   "cell_type": "code",
   "execution_count": 38,
   "id": "c869df2a-f90e-4f64-af62-b29b0fd0e590",
   "metadata": {},
   "outputs": [],
   "source": [
    "predictions2 = LR.predict(X_test)"
   ]
  },
  {
   "cell_type": "code",
   "execution_count": 83,
   "id": "8d9d895a-50e7-4c2d-8704-d4e8c2bcf9e5",
   "metadata": {},
   "outputs": [],
   "source": [
    "X_test['Predicted_NewPrice'] = predictions2"
   ]
  },
  {
   "cell_type": "code",
   "execution_count": 84,
   "id": "8e3ace69-3161-4090-bf3f-0254059e25e3",
   "metadata": {},
   "outputs": [
    {
     "data": {
      "image/png": "[encoded data removed]",
      "text/plain": [
       "<Figure size 1000x600 with 1 Axes>"
      ]
     },
     "metadata": {},
     "output_type": "display_data"
    }
   ],
   "source": [
    "# Step 1: Visualize 'Price' vs 'New_Price' in training data\n",
    "plt.figure(figsize=(10, 6))\n",
    "plt.scatter(X_test['Price'], X_test['Predicted_NewPrice'], alpha=0.5)\n",
    "plt.xlabel('Price')\n",
    "plt.ylabel('Predicted_NewPrice')\n",
    "plt.title('Price vs Predicted New Price in Training Data')\n",
    "plt.show()"
   ]
  },
  {
   "cell_type": "code",
   "execution_count": 92,
   "id": "a7c355d8-9717-450b-8b7f-3e12a3a4aa64",
   "metadata": {},
   "outputs": [
    {
     "data": {
      "text/html": [
       "<div>\n",
       "<style scoped>\n",
       "    .dataframe tbody tr th:only-of-type {\n",
       "        vertical-align: middle;\n",
       "    }\n",
       "\n",
       "    .dataframe tbody tr th {\n",
       "        vertical-align: top;\n",
       "    }\n",
       "\n",
       "    .dataframe thead th {\n",
       "        text-align: right;\n",
       "    }\n",
       "</style>\n",
       "<table border=\"1\" class=\"dataframe\">\n",
       "  <thead>\n",
       "    <tr style=\"text-align: right;\">\n",
       "      <th></th>\n",
       "      <th>min</th>\n",
       "      <th>max</th>\n",
       "      <th>mean</th>\n",
       "      <th>count</th>\n",
       "    </tr>\n",
       "  </thead>\n",
       "  <tbody>\n",
       "    <tr>\n",
       "      <th>Year</th>\n",
       "      <td>2005.000000</td>\n",
       "      <td>2019.000000</td>\n",
       "      <td>2015.746269</td>\n",
       "      <td>201.0</td>\n",
       "    </tr>\n",
       "    <tr>\n",
       "      <th>Kilometers_Driven</th>\n",
       "      <td>1000.000000</td>\n",
       "      <td>169006.000000</td>\n",
       "      <td>39918.686567</td>\n",
       "      <td>201.0</td>\n",
       "    </tr>\n",
       "    <tr>\n",
       "      <th>Seats</th>\n",
       "      <td>2.000000</td>\n",
       "      <td>8.000000</td>\n",
       "      <td>5.293532</td>\n",
       "      <td>201.0</td>\n",
       "    </tr>\n",
       "    <tr>\n",
       "      <th>Price</th>\n",
       "      <td>1.750000</td>\n",
       "      <td>70.990000</td>\n",
       "      <td>11.522537</td>\n",
       "      <td>201.0</td>\n",
       "    </tr>\n",
       "    <tr>\n",
       "      <th>Horse_Power</th>\n",
       "      <td>47.300000</td>\n",
       "      <td>367.000000</td>\n",
       "      <td>117.877015</td>\n",
       "      <td>201.0</td>\n",
       "    </tr>\n",
       "    <tr>\n",
       "      <th>Engine_Power</th>\n",
       "      <td>796.000000</td>\n",
       "      <td>2996.000000</td>\n",
       "      <td>1575.955224</td>\n",
       "      <td>201.0</td>\n",
       "    </tr>\n",
       "    <tr>\n",
       "      <th>Fuel_Consumption_kmpl</th>\n",
       "      <td>10.800000</td>\n",
       "      <td>46.956000</td>\n",
       "      <td>19.868438</td>\n",
       "      <td>201.0</td>\n",
       "    </tr>\n",
       "    <tr>\n",
       "      <th>Predicted_NewPrice</th>\n",
       "      <td>2.508165</td>\n",
       "      <td>70.577121</td>\n",
       "      <td>18.695179</td>\n",
       "      <td>201.0</td>\n",
       "    </tr>\n",
       "  </tbody>\n",
       "</table>\n",
       "</div>"
      ],
      "text/plain": [
       "                               min            max          mean  count\n",
       "Year                   2005.000000    2019.000000   2015.746269  201.0\n",
       "Kilometers_Driven      1000.000000  169006.000000  39918.686567  201.0\n",
       "Seats                     2.000000       8.000000      5.293532  201.0\n",
       "Price                     1.750000      70.990000     11.522537  201.0\n",
       "Horse_Power              47.300000     367.000000    117.877015  201.0\n",
       "Engine_Power            796.000000    2996.000000   1575.955224  201.0\n",
       "Fuel_Consumption_kmpl    10.800000      46.956000     19.868438  201.0\n",
       "Predicted_NewPrice        2.508165      70.577121     18.695179  201.0"
      ]
     },
     "execution_count": 92,
     "metadata": {},
     "output_type": "execute_result"
    }
   ],
   "source": [
    "X_test.describe().transpose()[['min','max','mean','count']]"
   ]
  },
  {
   "cell_type": "code",
   "execution_count": 91,
   "id": "fffe8cfb-1fda-459d-b5c5-35c634b3a783",
   "metadata": {},
   "outputs": [
    {
     "data": {
      "text/html": [
       "<div>\n",
       "<style scoped>\n",
       "    .dataframe tbody tr th:only-of-type {\n",
       "        vertical-align: middle;\n",
       "    }\n",
       "\n",
       "    .dataframe tbody tr th {\n",
       "        vertical-align: top;\n",
       "    }\n",
       "\n",
       "    .dataframe thead th {\n",
       "        text-align: right;\n",
       "    }\n",
       "</style>\n",
       "<table border=\"1\" class=\"dataframe\">\n",
       "  <thead>\n",
       "    <tr style=\"text-align: right;\">\n",
       "      <th></th>\n",
       "      <th>min</th>\n",
       "      <th>max</th>\n",
       "      <th>mean</th>\n",
       "      <th>count</th>\n",
       "    </tr>\n",
       "  </thead>\n",
       "  <tbody>\n",
       "    <tr>\n",
       "      <th>Year</th>\n",
       "      <td>1998.000000</td>\n",
       "      <td>2.019000e+03</td>\n",
       "      <td>2013.038707</td>\n",
       "      <td>5012.0</td>\n",
       "    </tr>\n",
       "    <tr>\n",
       "      <th>Kilometers_Driven</th>\n",
       "      <td>171.000000</td>\n",
       "      <td>6.500000e+06</td>\n",
       "      <td>61450.421189</td>\n",
       "      <td>5012.0</td>\n",
       "    </tr>\n",
       "    <tr>\n",
       "      <th>Seats</th>\n",
       "      <td>0.000000</td>\n",
       "      <td>1.000000e+01</td>\n",
       "      <td>5.274270</td>\n",
       "      <td>5012.0</td>\n",
       "    </tr>\n",
       "    <tr>\n",
       "      <th>New_Price</th>\n",
       "      <td>NaN</td>\n",
       "      <td>NaN</td>\n",
       "      <td>NaN</td>\n",
       "      <td>0.0</td>\n",
       "    </tr>\n",
       "    <tr>\n",
       "      <th>Price</th>\n",
       "      <td>0.440000</td>\n",
       "      <td>1.000000e+02</td>\n",
       "      <td>8.963815</td>\n",
       "      <td>5012.0</td>\n",
       "    </tr>\n",
       "    <tr>\n",
       "      <th>Horse_Power</th>\n",
       "      <td>34.200000</td>\n",
       "      <td>5.500000e+02</td>\n",
       "      <td>112.218748</td>\n",
       "      <td>5012.0</td>\n",
       "    </tr>\n",
       "    <tr>\n",
       "      <th>Engine_Power</th>\n",
       "      <td>624.000000</td>\n",
       "      <td>5.461000e+03</td>\n",
       "      <td>1627.626696</td>\n",
       "      <td>5012.0</td>\n",
       "    </tr>\n",
       "    <tr>\n",
       "      <th>Fuel_Consumption_kmpl</th>\n",
       "      <td>0.000000</td>\n",
       "      <td>4.681600e+01</td>\n",
       "      <td>18.048186</td>\n",
       "      <td>5012.0</td>\n",
       "    </tr>\n",
       "    <tr>\n",
       "      <th>Predicted_New_Price</th>\n",
       "      <td>1.087243</td>\n",
       "      <td>2.187255e+02</td>\n",
       "      <td>18.659862</td>\n",
       "      <td>5012.0</td>\n",
       "    </tr>\n",
       "  </tbody>\n",
       "</table>\n",
       "</div>"
      ],
      "text/plain": [
       "                               min           max          mean   count\n",
       "Year                   1998.000000  2.019000e+03   2013.038707  5012.0\n",
       "Kilometers_Driven       171.000000  6.500000e+06  61450.421189  5012.0\n",
       "Seats                     0.000000  1.000000e+01      5.274270  5012.0\n",
       "New_Price                      NaN           NaN           NaN     0.0\n",
       "Price                     0.440000  1.000000e+02      8.963815  5012.0\n",
       "Horse_Power              34.200000  5.500000e+02    112.218748  5012.0\n",
       "Engine_Power            624.000000  5.461000e+03   1627.626696  5012.0\n",
       "Fuel_Consumption_kmpl     0.000000  4.681600e+01     18.048186  5012.0\n",
       "Predicted_New_Price       1.087243  2.187255e+02     18.659862  5012.0"
      ]
     },
     "execution_count": 91,
     "metadata": {},
     "output_type": "execute_result"
    }
   ],
   "source": [
    "test_data.describe().transpose()[['min','max','mean','count']]"
   ]
  },
  {
   "cell_type": "markdown",
   "id": "ad64e142-fcab-40fe-882a-805337a78a6c",
   "metadata": {},
   "source": [
    "<span style = \"color:red\"> End 2nd model!!!!!</span>"
   ]
  },
  {
   "cell_type": "code",
   "execution_count": 40,
   "id": "ba26b026-8a4b-4540-96cd-428b8db92153",
   "metadata": {},
   "outputs": [],
   "source": [
    "# creating test data\n",
    "test_data = used_cars[used_cars['New_Price'].isna()]"
   ]
  },
  {
   "cell_type": "code",
   "execution_count": 41,
   "id": "956d4cac-6cd1-42c2-b121-05e7d058ff01",
   "metadata": {},
   "outputs": [],
   "source": [
    "# creating training data\n",
    "training_data = used_cars[used_cars['New_Price'].notna()]"
   ]
  },
  {
   "cell_type": "code",
   "execution_count": 42,
   "id": "d02a6a75-b8d2-4be3-a3d7-cbaf6d42c0e1",
   "metadata": {},
   "outputs": [],
   "source": [
    "# removing missing values in Price column of training data\n",
    "training_data = training_data.dropna(subset = ['Price'])"
   ]
  },
  {
   "cell_type": "markdown",
   "id": "45e08401-2f6a-44b7-9e18-575893f24411",
   "metadata": {},
   "source": [
    "<span style = \"color:red;font-size:16px\">**Keeping Only Unique Values**</span>"
   ]
  },
  {
   "cell_type": "markdown",
   "id": "ec38c5ad-a444-4ecf-b6bc-322c68c3f160",
   "metadata": {},
   "source": [
    "##### Because I will do one-heat encoding: Meaning that all unique variables in selected categorical columns will be separate features, If test data and training data dont contain the length of features, the model will give an error. Therefore, I want to be sure that both datasets contain only the identical values."
   ]
  },
  {
   "cell_type": "markdown",
   "id": "c6504ffc-b656-4341-984c-e6aca35c02f8",
   "metadata": {},
   "source": [
    "### Treating data in Brand Column"
   ]
  },
  {
   "cell_type": "code",
   "execution_count": 43,
   "id": "2f13b0b9-f8dc-4a63-85e2-a468cb94121e",
   "metadata": {},
   "outputs": [],
   "source": [
    "# Find the intersection of unique values in column Brand between training_data and test_data\n",
    "common_values = set(test_data['Brand']).intersection(training_data['Brand'])"
   ]
  },
  {
   "cell_type": "code",
   "execution_count": 44,
   "id": "2761715e-08c1-4fc8-860f-4672f71c7da5",
   "metadata": {},
   "outputs": [],
   "source": [
    "# Filter test and training data to keep only the rows with common values in column Brand\n",
    "test_data = test_data[test_data['Brand'].isin(common_values)]"
   ]
  },
  {
   "cell_type": "code",
   "execution_count": 45,
   "id": "25d17f8c-44dc-4578-b214-9bdf38d40dc3",
   "metadata": {},
   "outputs": [],
   "source": [
    "training_data = training_data[training_data['Brand'].isin(common_values)]"
   ]
  },
  {
   "cell_type": "markdown",
   "id": "787cbf22-6a1f-436f-9bb5-bf9e85d3abec",
   "metadata": {},
   "source": [
    "### Treating data in Owner_Type column"
   ]
  },
  {
   "cell_type": "code",
   "execution_count": 46,
   "id": "e91551cf-98cb-46f7-826f-f103e160cf62",
   "metadata": {},
   "outputs": [],
   "source": [
    "# Find the intersection of unique values in column Owner_Type between training_data and test_data\n",
    "common_values = set(test_data['Owner_Type']).intersection(training_data['Owner_Type'])"
   ]
  },
  {
   "cell_type": "code",
   "execution_count": 47,
   "id": "a5070de5-1be1-46f9-b75d-4c33b30be467",
   "metadata": {},
   "outputs": [],
   "source": [
    "# Filter test and training data to keep only the rows with common values in column Brand\n",
    "test_data = test_data[test_data['Owner_Type'].isin(common_values)]"
   ]
  },
  {
   "cell_type": "code",
   "execution_count": 48,
   "id": "eb89eb5a-b859-454c-a0c3-03f160a82384",
   "metadata": {},
   "outputs": [],
   "source": [
    "training_data = training_data[training_data['Owner_Type'].isin(common_values)]"
   ]
  },
  {
   "cell_type": "code",
   "execution_count": 49,
   "id": "8a7130c4-99e7-4490-a5e2-9c49260c2f82",
   "metadata": {},
   "outputs": [
    {
     "data": {
      "text/plain": [
       "((6075, 23), (809, 23))"
      ]
     },
     "execution_count": 49,
     "metadata": {},
     "output_type": "execute_result"
    }
   ],
   "source": [
    "test_data.shape, training_data.shape"
   ]
  },
  {
   "cell_type": "markdown",
   "id": "0d3afad2-b2ec-434c-b7be-32dd6cd84d83",
   "metadata": {},
   "source": [
    "## Preprossesing Test Data"
   ]
  },
  {
   "cell_type": "code",
   "execution_count": 50,
   "id": "2e7bff47-4a39-42eb-bd82-7c00c3f4d04c",
   "metadata": {},
   "outputs": [
    {
     "data": {
      "text/plain": [
       "S.No.                       0\n",
       "Name                        0\n",
       "Location                    0\n",
       "Year                        0\n",
       "Kilometers_Driven           0\n",
       "Fuel_Type                   0\n",
       "Transmission                0\n",
       "Owner_Type                  0\n",
       "Mileage                     1\n",
       "Engine                     45\n",
       "Power                      45\n",
       "Seats                      52\n",
       "New_Price                6075\n",
       "Price                    1017\n",
       "Horse_Power               169\n",
       "Horse_Power_Unit           45\n",
       "Engine_Power               45\n",
       "Engine_Power_Unit          45\n",
       "Price_Notation           6075\n",
       "Fuel_Consumption            1\n",
       "Consumption_Measure         1\n",
       "Fuel_Consumption_kmpl       1\n",
       "Brand                       0\n",
       "dtype: int64"
      ]
     },
     "execution_count": 50,
     "metadata": {},
     "output_type": "execute_result"
    }
   ],
   "source": [
    "test_data.isna().sum()"
   ]
  },
  {
   "cell_type": "code",
   "execution_count": 51,
   "id": "e40431be-aa20-4e7e-9e06-f03254a09bc5",
   "metadata": {},
   "outputs": [],
   "source": [
    "# Remove rows where columns Horse_Power and Engine_Power are all missing\n",
    "test_data = test_data.dropna(subset=['Horse_Power', 'Engine_Power'], how='all')"
   ]
  },
  {
   "cell_type": "code",
   "execution_count": 52,
   "id": "e3f61574-c14b-4f3b-9f2a-ba16ab54748e",
   "metadata": {},
   "outputs": [],
   "source": [
    "# Removing all rows where Price and Fuel consumption are missing\n",
    "test_data = test_data.dropna(subset = ['Price','Fuel_Consumption_kmpl'])"
   ]
  },
  {
   "cell_type": "markdown",
   "id": "762660c8-92cd-4c5e-ab9d-aa012886cf8b",
   "metadata": {},
   "source": [
    "<span style = \"color:red\">[Note] I am replacing missing values in Horse_Power column using simple using a simple imputation technique (ratio technique). The average ratio of Horse Power to Engine in the dataset </span>"
   ]
  },
  {
   "cell_type": "code",
   "execution_count": 53,
   "id": "5e370bd9-85dd-4fe7-bb5d-c1e87b5f4db6",
   "metadata": {},
   "outputs": [],
   "source": [
    "# Calculate the average ratio of 'Horse Power' to 'Engine Power'\n",
    "average_ratio = test_data['Horse_Power'].div(test_data['Engine_Power']).mean()"
   ]
  },
  {
   "cell_type": "code",
   "execution_count": 54,
   "id": "da72adfc-d86d-454d-8398-ebebbb7996f9",
   "metadata": {},
   "outputs": [],
   "source": [
    "# Replace missing 'Horse Power' values based on 'Engine Power'\n",
    "missing_hp_mask = test_data['Horse_Power'].isna() & test_data['Engine_Power'].notna()\n",
    "test_data.loc[missing_hp_mask, 'Horse_Power'] = test_data.loc[missing_hp_mask, 'Engine_Power'] * average_ratio"
   ]
  },
  {
   "cell_type": "markdown",
   "id": "9fcb7767-8382-4cf0-ab28-8a67d80d53bf",
   "metadata": {},
   "source": [
    "<span style = \"color:red; font-size:16px\">Replacing Missing Seats with Average of Data</span>"
   ]
  },
  {
   "cell_type": "code",
   "execution_count": 55,
   "id": "a46de196-3ad0-4e52-b189-588c6cdce682",
   "metadata": {},
   "outputs": [],
   "source": [
    "# Calculate the average number of seats in the training_data DataFrame\n",
    "average_seats = test_data['Seats'].mean()"
   ]
  },
  {
   "cell_type": "code",
   "execution_count": 56,
   "id": "761af304-6cef-4340-a19e-a5af119d5df1",
   "metadata": {},
   "outputs": [],
   "source": [
    "# Replace missing values in the 'Seats' column of the test_data DataFrame with the average seats\n",
    "test_data['Seats'].fillna(average_seats, inplace=True)"
   ]
  },
  {
   "cell_type": "markdown",
   "id": "fd513b4e-9d7d-43a8-b9a5-261f8811a144",
   "metadata": {},
   "source": [
    "### Treating data in Fuel_Type Column"
   ]
  },
  {
   "cell_type": "code",
   "execution_count": 57,
   "id": "c5c2d7dd-21d8-471c-96e7-8b5836fa94a7",
   "metadata": {},
   "outputs": [],
   "source": [
    "common_values = set(test_data['Fuel_Type']).intersection(training_data['Fuel_Type'])"
   ]
  },
  {
   "cell_type": "code",
   "execution_count": 58,
   "id": "270868a5-4c40-4b2f-9902-810459a752eb",
   "metadata": {},
   "outputs": [],
   "source": [
    "test_data = test_data[test_data['Fuel_Type'].isin(common_values)]"
   ]
  },
  {
   "cell_type": "code",
   "execution_count": 59,
   "id": "4d8905e7-3d79-47df-9e8b-a30ca304e751",
   "metadata": {},
   "outputs": [],
   "source": [
    "training_data = training_data[training_data['Fuel_Type'].isin(common_values)]"
   ]
  },
  {
   "cell_type": "code",
   "execution_count": 60,
   "id": "cc91ab7b-0e50-465c-ba73-0589769ef177",
   "metadata": {},
   "outputs": [
    {
     "data": {
      "text/plain": [
       "((808, 23), (5012, 23))"
      ]
     },
     "execution_count": 60,
     "metadata": {},
     "output_type": "execute_result"
    }
   ],
   "source": [
    "training_data.shape, test_data.shape"
   ]
  },
  {
   "cell_type": "markdown",
   "id": "821147d5-821a-4ac5-9cd8-d22e1a6705b5",
   "metadata": {},
   "source": [
    "### Feature Engineering "
   ]
  },
  {
   "cell_type": "code",
   "execution_count": 61,
   "id": "0338e463-ffee-4de6-a000-2e57840d8670",
   "metadata": {},
   "outputs": [],
   "source": [
    "# features to be deleted\n",
    "columns_to_remove = ['S.No.','Name','Location','Mileage',\n",
    "                     'Engine','Power','Horse_Power_Unit',\n",
    "                     'Engine_Power_Unit','Price_Notation',\n",
    "                     'Fuel_Consumption','Consumption_Measure']"
   ]
  },
  {
   "cell_type": "code",
   "execution_count": 62,
   "id": "20da8cbb-745b-4794-895b-f371fea62827",
   "metadata": {},
   "outputs": [],
   "source": [
    "test_data = test_data.drop(columns = columns_to_remove)"
   ]
  },
  {
   "cell_type": "code",
   "execution_count": 63,
   "id": "7585c6cd-0683-4b94-8cdd-b645bdc5e197",
   "metadata": {},
   "outputs": [],
   "source": [
    "training_data = training_data.drop(columns = columns_to_remove)"
   ]
  },
  {
   "cell_type": "code",
   "execution_count": 64,
   "id": "425541e5-1eec-4f71-b97b-c784d10d4da5",
   "metadata": {},
   "outputs": [],
   "source": [
    "# Extracting features and target variable for training set\n",
    "x_train = training_data.drop(columns = 'New_Price')"
   ]
  },
  {
   "cell_type": "code",
   "execution_count": 65,
   "id": "9bebfbff-022b-47c3-835a-dabd11fe1e9d",
   "metadata": {},
   "outputs": [],
   "source": [
    "y_train = training_data['New_Price']"
   ]
  },
  {
   "cell_type": "code",
   "execution_count": 66,
   "id": "a8b16f6b-bba4-4b19-ad0d-78b0682703b9",
   "metadata": {},
   "outputs": [],
   "source": [
    "# Extracting features for test set (excluding the target variable)\n",
    "x_test = test_data.drop(columns = 'New_Price')"
   ]
  },
  {
   "cell_type": "code",
   "execution_count": 67,
   "id": "646526af-ec6b-441d-b2de-72186a6cb39c",
   "metadata": {},
   "outputs": [],
   "source": [
    "y_test = test_data[test_data['New_Price'].isna()]['New_Price']"
   ]
  },
  {
   "cell_type": "markdown",
   "id": "64d1d258-e63d-41f5-bcc7-e43910bfe091",
   "metadata": {},
   "source": [
    "#### Encoding categorical variables using one-hot encoding"
   ]
  },
  {
   "cell_type": "code",
   "execution_count": 68,
   "id": "565f9e23-89cd-4e6a-a894-07c8d0ac6163",
   "metadata": {},
   "outputs": [],
   "source": [
    "training_data_encoded = pd.get_dummies(training_data, columns=['Fuel_Type', 'Transmission', 'Owner_Type','Brand'])"
   ]
  },
  {
   "cell_type": "code",
   "execution_count": 69,
   "id": "28c3bba9-37ec-4fbe-b934-1f250f4aba53",
   "metadata": {},
   "outputs": [],
   "source": [
    "test_data_encoded = pd.get_dummies(test_data, columns=['Fuel_Type', 'Transmission', 'Owner_Type','Brand'])"
   ]
  },
  {
   "cell_type": "markdown",
   "id": "c72d74aa-68d1-4bfe-a65e-5d0a1a4ea472",
   "metadata": {},
   "source": [
    "#### delete features from test data which are not in training data"
   ]
  },
  {
   "cell_type": "code",
   "execution_count": 70,
   "id": "ff8cbab7-c474-4f19-a868-face8750d3e3",
   "metadata": {},
   "outputs": [],
   "source": [
    "# Update X_train and X_test with the encoded features\n",
    "x_train_encoded = training_data_encoded.drop(columns=['New_Price'])"
   ]
  },
  {
   "cell_type": "code",
   "execution_count": 71,
   "id": "41030196-763e-4168-a2be-2003cf07c23a",
   "metadata": {},
   "outputs": [],
   "source": [
    "x_test_encoded = test_data_encoded.drop(columns=['New_Price'])"
   ]
  },
  {
   "cell_type": "markdown",
   "id": "e113757e-2247-4d3d-8eec-cb6d8be2b2e9",
   "metadata": {},
   "source": [
    "#### Training the Model"
   ]
  },
  {
   "cell_type": "code",
   "execution_count": 72,
   "id": "10936164-c8c0-4e29-a84a-09cff4fa21c8",
   "metadata": {},
   "outputs": [],
   "source": [
    "# Creating the Linear Model\n",
    "LR = LinearRegression()"
   ]
  },
  {
   "cell_type": "code",
   "execution_count": 73,
   "id": "3fbeeaf8-e64f-4e29-b6ec-cdc45b2ba93a",
   "metadata": {},
   "outputs": [
    {
     "data": {
      "text/html": [
       "<style>#sk-container-id-1 {color: black;background-color: white;}#sk-container-id-1 pre{padding: 0;}#sk-container-id-1 div.sk-toggleable {background-color: white;}#sk-container-id-1 label.sk-toggleable__label {cursor: pointer;display: block;width: 100%;margin-bottom: 0;padding: 0.3em;box-sizing: border-box;text-align: center;}#sk-container-id-1 label.sk-toggleable__label-arrow:before {content: \"▸\";float: left;margin-right: 0.25em;color: #696969;}#sk-container-id-1 label.sk-toggleable__label-arrow:hover:before {color: black;}#sk-container-id-1 div.sk-estimator:hover label.sk-toggleable__label-arrow:before {color: black;}#sk-container-id-1 div.sk-toggleable__content {max-height: 0;max-width: 0;overflow: hidden;text-align: left;background-color: #f0f8ff;}#sk-container-id-1 div.sk-toggleable__content pre {margin: 0.2em;color: black;border-radius: 0.25em;background-color: #f0f8ff;}#sk-container-id-1 input.sk-toggleable__control:checked~div.sk-toggleable__content {max-height: 200px;max-width: 100%;overflow: auto;}#sk-container-id-1 input.sk-toggleable__control:checked~label.sk-toggleable__label-arrow:before {content: \"▾\";}#sk-container-id-1 div.sk-estimator input.sk-toggleable__control:checked~label.sk-toggleable__label {background-color: #d4ebff;}#sk-container-id-1 div.sk-label input.sk-toggleable__control:checked~label.sk-toggleable__label {background-color: #d4ebff;}#sk-container-id-1 input.sk-hidden--visually {border: 0;clip: rect(1px 1px 1px 1px);clip: rect(1px, 1px, 1px, 1px);height: 1px;margin: -1px;overflow: hidden;padding: 0;position: absolute;width: 1px;}#sk-container-id-1 div.sk-estimator {font-family: monospace;background-color: #f0f8ff;border: 1px dotted black;border-radius: 0.25em;box-sizing: border-box;margin-bottom: 0.5em;}#sk-container-id-1 div.sk-estimator:hover {background-color: #d4ebff;}#sk-container-id-1 div.sk-parallel-item::after {content: \"\";width: 100%;border-bottom: 1px solid gray;flex-grow: 1;}#sk-container-id-1 div.sk-label:hover label.sk-toggleable__label {background-color: #d4ebff;}#sk-container-id-1 div.sk-serial::before {content: \"\";position: absolute;border-left: 1px solid gray;box-sizing: border-box;top: 0;bottom: 0;left: 50%;z-index: 0;}#sk-container-id-1 div.sk-serial {display: flex;flex-direction: column;align-items: center;background-color: white;padding-right: 0.2em;padding-left: 0.2em;position: relative;}#sk-container-id-1 div.sk-item {position: relative;z-index: 1;}#sk-container-id-1 div.sk-parallel {display: flex;align-items: stretch;justify-content: center;background-color: white;position: relative;}#sk-container-id-1 div.sk-item::before, #sk-container-id-1 div.sk-parallel-item::before {content: \"\";position: absolute;border-left: 1px solid gray;box-sizing: border-box;top: 0;bottom: 0;left: 50%;z-index: -1;}#sk-container-id-1 div.sk-parallel-item {display: flex;flex-direction: column;z-index: 1;position: relative;background-color: white;}#sk-container-id-1 div.sk-parallel-item:first-child::after {align-self: flex-end;width: 50%;}#sk-container-id-1 div.sk-parallel-item:last-child::after {align-self: flex-start;width: 50%;}#sk-container-id-1 div.sk-parallel-item:only-child::after {width: 0;}#sk-container-id-1 div.sk-dashed-wrapped {border: 1px dashed gray;margin: 0 0.4em 0.5em 0.4em;box-sizing: border-box;padding-bottom: 0.4em;background-color: white;}#sk-container-id-1 div.sk-label label {font-family: monospace;font-weight: bold;display: inline-block;line-height: 1.2em;}#sk-container-id-1 div.sk-label-container {text-align: center;}#sk-container-id-1 div.sk-container {/* jupyter's `normalize.less` sets `[hidden] { display: none; }` but bootstrap.min.css set `[hidden] { display: none !important; }` so we also need the `!important` here to be able to override the default hidden behavior on the sphinx rendered scikit-learn.org. See: https://github.com/scikit-learn/scikit-learn/issues/21755 */display: inline-block !important;position: relative;}#sk-container-id-1 div.sk-text-repr-fallback {display: none;}</style><div id=\"sk-container-id-1\" class=\"sk-top-container\"><div class=\"sk-text-repr-fallback\"><pre>LinearRegression()</pre><b>In a Jupyter environment, please rerun this cell to show the HTML representation or trust the notebook. <br />On GitHub, the HTML representation is unable to render, please try loading this page with nbviewer.org.</b></div><div class=\"sk-container\" hidden><div class=\"sk-item\"><div class=\"sk-estimator sk-toggleable\"><input class=\"sk-toggleable__control sk-hidden--visually\" id=\"sk-estimator-id-1\" type=\"checkbox\" checked><label for=\"sk-estimator-id-1\" class=\"sk-toggleable__label sk-toggleable__label-arrow\">LinearRegression</label><div class=\"sk-toggleable__content\"><pre>LinearRegression()</pre></div></div></div></div></div>"
      ],
      "text/plain": [
       "LinearRegression()"
      ]
     },
     "execution_count": 73,
     "metadata": {},
     "output_type": "execute_result"
    }
   ],
   "source": [
    "# Fitting the training data into the LR model\n",
    "LR.fit(x_train_encoded,y_train)"
   ]
  },
  {
   "cell_type": "code",
   "execution_count": 74,
   "id": "725cd31b-b983-48a5-ad60-5da7ef0e13f9",
   "metadata": {},
   "outputs": [],
   "source": [
    "# Prediction\n",
    "predictions = LR.predict(x_test_encoded)"
   ]
  },
  {
   "cell_type": "code",
   "execution_count": 75,
   "id": "bb3bb577-77d9-4a5e-8630-6f6accc69255",
   "metadata": {},
   "outputs": [
    {
     "data": {
      "image/png": "[encoded data removed]",
      "text/plain": [
       "<Figure size 1000x600 with 1 Axes>"
      ]
     },
     "metadata": {},
     "output_type": "display_data"
    }
   ],
   "source": [
    "import matplotlib.pyplot as plt\n",
    "\n",
    "# Step 1: Visualize 'Price' vs 'New_Price' in training data\n",
    "plt.figure(figsize=(10, 6))\n",
    "plt.scatter(training_data['Price'], training_data['New_Price'], alpha=0.5)\n",
    "plt.xlabel('Price')\n",
    "plt.ylabel('New_Price')\n",
    "plt.title('Price vs New_Price in Training Data')\n",
    "plt.show()"
   ]
  },
  {
   "cell_type": "code",
   "execution_count": 76,
   "id": "de3e73d3-569e-4660-8e72-b97daee55495",
   "metadata": {},
   "outputs": [],
   "source": [
    "# Step 2: Combine predictions into testing data\n",
    "test_data['Predicted_New_Price'] = predictions"
   ]
  },
  {
   "cell_type": "code",
   "execution_count": 77,
   "id": "1655eb11-e091-4417-929d-5336174ca4b6",
   "metadata": {},
   "outputs": [
    {
     "data": {
      "image/png": "[encoded data removed]",
      "text/plain": [
       "<Figure size 1000x600 with 1 Axes>"
      ]
     },
     "metadata": {},
     "output_type": "display_data"
    }
   ],
   "source": [
    "# Step 3: Visualize predicted values vs 'New_Price' in testing data\n",
    "plt.figure(figsize=(10, 6))\n",
    "plt.scatter(test_data['Predicted_New_Price'], test_data['Price'], alpha=0.5)\n",
    "plt.xlabel('Predicted New_Price')\n",
    "plt.ylabel('Price')\n",
    "plt.title('Predicted New_Price vs Price in Testing Data')\n",
    "plt.show()"
   ]
  },
  {
   "cell_type": "code",
   "execution_count": 78,
   "id": "316357f0-06c6-4d5c-86d2-12f925f9b0fb",
   "metadata": {
    "scrolled": true
   },
   "outputs": [
    {
     "data": {
      "text/html": [
       "<div>\n",
       "<style scoped>\n",
       "    .dataframe tbody tr th:only-of-type {\n",
       "        vertical-align: middle;\n",
       "    }\n",
       "\n",
       "    .dataframe tbody tr th {\n",
       "        vertical-align: top;\n",
       "    }\n",
       "\n",
       "    .dataframe thead th {\n",
       "        text-align: right;\n",
       "    }\n",
       "</style>\n",
       "<table border=\"1\" class=\"dataframe\">\n",
       "  <thead>\n",
       "    <tr style=\"text-align: right;\">\n",
       "      <th></th>\n",
       "      <th>count</th>\n",
       "      <th>mean</th>\n",
       "      <th>std</th>\n",
       "      <th>min</th>\n",
       "      <th>25%</th>\n",
       "      <th>50%</th>\n",
       "      <th>75%</th>\n",
       "      <th>max</th>\n",
       "    </tr>\n",
       "  </thead>\n",
       "  <tbody>\n",
       "    <tr>\n",
       "      <th>Year</th>\n",
       "      <td>5012.0</td>\n",
       "      <td>2013.038707</td>\n",
       "      <td>3.185432</td>\n",
       "      <td>1998.000000</td>\n",
       "      <td>2011.000000</td>\n",
       "      <td>2014.000000</td>\n",
       "      <td>2015.000000</td>\n",
       "      <td>2.019000e+03</td>\n",
       "    </tr>\n",
       "    <tr>\n",
       "      <th>Kilometers_Driven</th>\n",
       "      <td>5012.0</td>\n",
       "      <td>61450.421189</td>\n",
       "      <td>98742.457376</td>\n",
       "      <td>171.000000</td>\n",
       "      <td>36889.250000</td>\n",
       "      <td>55674.500000</td>\n",
       "      <td>75000.000000</td>\n",
       "      <td>6.500000e+06</td>\n",
       "    </tr>\n",
       "    <tr>\n",
       "      <th>Seats</th>\n",
       "      <td>5012.0</td>\n",
       "      <td>5.274270</td>\n",
       "      <td>0.802166</td>\n",
       "      <td>0.000000</td>\n",
       "      <td>5.000000</td>\n",
       "      <td>5.000000</td>\n",
       "      <td>5.000000</td>\n",
       "      <td>1.000000e+01</td>\n",
       "    </tr>\n",
       "    <tr>\n",
       "      <th>New_Price</th>\n",
       "      <td>0.0</td>\n",
       "      <td>NaN</td>\n",
       "      <td>NaN</td>\n",
       "      <td>NaN</td>\n",
       "      <td>NaN</td>\n",
       "      <td>NaN</td>\n",
       "      <td>NaN</td>\n",
       "      <td>NaN</td>\n",
       "    </tr>\n",
       "    <tr>\n",
       "      <th>Price</th>\n",
       "      <td>5012.0</td>\n",
       "      <td>8.963815</td>\n",
       "      <td>10.306285</td>\n",
       "      <td>0.440000</td>\n",
       "      <td>3.450000</td>\n",
       "      <td>5.500000</td>\n",
       "      <td>9.312500</td>\n",
       "      <td>1.000000e+02</td>\n",
       "    </tr>\n",
       "    <tr>\n",
       "      <th>Horse_Power</th>\n",
       "      <td>5012.0</td>\n",
       "      <td>112.218748</td>\n",
       "      <td>52.847268</td>\n",
       "      <td>34.200000</td>\n",
       "      <td>74.697500</td>\n",
       "      <td>93.700000</td>\n",
       "      <td>138.030000</td>\n",
       "      <td>5.500000e+02</td>\n",
       "    </tr>\n",
       "    <tr>\n",
       "      <th>Engine_Power</th>\n",
       "      <td>5012.0</td>\n",
       "      <td>1627.626696</td>\n",
       "      <td>604.648750</td>\n",
       "      <td>624.000000</td>\n",
       "      <td>1198.000000</td>\n",
       "      <td>1493.000000</td>\n",
       "      <td>1968.000000</td>\n",
       "      <td>5.461000e+03</td>\n",
       "    </tr>\n",
       "    <tr>\n",
       "      <th>Fuel_Consumption_kmpl</th>\n",
       "      <td>5012.0</td>\n",
       "      <td>18.048186</td>\n",
       "      <td>4.718376</td>\n",
       "      <td>0.000000</td>\n",
       "      <td>15.100000</td>\n",
       "      <td>18.000000</td>\n",
       "      <td>20.730000</td>\n",
       "      <td>4.681600e+01</td>\n",
       "    </tr>\n",
       "    <tr>\n",
       "      <th>Predicted_New_Price</th>\n",
       "      <td>5012.0</td>\n",
       "      <td>18.659862</td>\n",
       "      <td>16.293556</td>\n",
       "      <td>1.087243</td>\n",
       "      <td>9.140465</td>\n",
       "      <td>12.008992</td>\n",
       "      <td>19.683477</td>\n",
       "      <td>2.187255e+02</td>\n",
       "    </tr>\n",
       "  </tbody>\n",
       "</table>\n",
       "</div>"
      ],
      "text/plain": [
       "                        count          mean           std          min  \\\n",
       "Year                   5012.0   2013.038707      3.185432  1998.000000   \n",
       "Kilometers_Driven      5012.0  61450.421189  98742.457376   171.000000   \n",
       "Seats                  5012.0      5.274270      0.802166     0.000000   \n",
       "New_Price                 0.0           NaN           NaN          NaN   \n",
       "Price                  5012.0      8.963815     10.306285     0.440000   \n",
       "Horse_Power            5012.0    112.218748     52.847268    34.200000   \n",
       "Engine_Power           5012.0   1627.626696    604.648750   624.000000   \n",
       "Fuel_Consumption_kmpl  5012.0     18.048186      4.718376     0.000000   \n",
       "Predicted_New_Price    5012.0     18.659862     16.293556     1.087243   \n",
       "\n",
       "                                25%           50%           75%           max  \n",
       "Year                    2011.000000   2014.000000   2015.000000  2.019000e+03  \n",
       "Kilometers_Driven      36889.250000  55674.500000  75000.000000  6.500000e+06  \n",
       "Seats                      5.000000      5.000000      5.000000  1.000000e+01  \n",
       "New_Price                       NaN           NaN           NaN           NaN  \n",
       "Price                      3.450000      5.500000      9.312500  1.000000e+02  \n",
       "Horse_Power               74.697500     93.700000    138.030000  5.500000e+02  \n",
       "Engine_Power            1198.000000   1493.000000   1968.000000  5.461000e+03  \n",
       "Fuel_Consumption_kmpl     15.100000     18.000000     20.730000  4.681600e+01  \n",
       "Predicted_New_Price        9.140465     12.008992     19.683477  2.187255e+02  "
      ]
     },
     "execution_count": 78,
     "metadata": {},
     "output_type": "execute_result"
    }
   ],
   "source": [
    "test_data.describe().transpose()"
   ]
  },
  {
   "cell_type": "code",
   "execution_count": 79,
   "id": "3df5838e-2c93-4ae4-95fa-db7d47defbf5",
   "metadata": {},
   "outputs": [
    {
     "data": {
      "text/html": [
       "<div>\n",
       "<style scoped>\n",
       "    .dataframe tbody tr th:only-of-type {\n",
       "        vertical-align: middle;\n",
       "    }\n",
       "\n",
       "    .dataframe tbody tr th {\n",
       "        vertical-align: top;\n",
       "    }\n",
       "\n",
       "    .dataframe thead th {\n",
       "        text-align: right;\n",
       "    }\n",
       "</style>\n",
       "<table border=\"1\" class=\"dataframe\">\n",
       "  <thead>\n",
       "    <tr style=\"text-align: right;\">\n",
       "      <th></th>\n",
       "      <th>count</th>\n",
       "      <th>mean</th>\n",
       "      <th>std</th>\n",
       "      <th>min</th>\n",
       "      <th>25%</th>\n",
       "      <th>50%</th>\n",
       "      <th>75%</th>\n",
       "      <th>max</th>\n",
       "    </tr>\n",
       "  </thead>\n",
       "  <tbody>\n",
       "    <tr>\n",
       "      <th>Year</th>\n",
       "      <td>808.0</td>\n",
       "      <td>2015.837871</td>\n",
       "      <td>2.387431</td>\n",
       "      <td>2001.0</td>\n",
       "      <td>2015.0000</td>\n",
       "      <td>2016.00</td>\n",
       "      <td>2017.0000</td>\n",
       "      <td>2019.000</td>\n",
       "    </tr>\n",
       "    <tr>\n",
       "      <th>Kilometers_Driven</th>\n",
       "      <td>808.0</td>\n",
       "      <td>40734.143564</td>\n",
       "      <td>28932.457497</td>\n",
       "      <td>600.0</td>\n",
       "      <td>20622.2500</td>\n",
       "      <td>35000.00</td>\n",
       "      <td>54000.0000</td>\n",
       "      <td>215000.000</td>\n",
       "    </tr>\n",
       "    <tr>\n",
       "      <th>Seats</th>\n",
       "      <td>808.0</td>\n",
       "      <td>5.310644</td>\n",
       "      <td>0.801971</td>\n",
       "      <td>2.0</td>\n",
       "      <td>5.0000</td>\n",
       "      <td>5.00</td>\n",
       "      <td>5.0000</td>\n",
       "      <td>8.000</td>\n",
       "    </tr>\n",
       "    <tr>\n",
       "      <th>New_Price</th>\n",
       "      <td>808.0</td>\n",
       "      <td>20.277178</td>\n",
       "      <td>20.389985</td>\n",
       "      <td>1.0</td>\n",
       "      <td>7.7525</td>\n",
       "      <td>11.27</td>\n",
       "      <td>23.9575</td>\n",
       "      <td>99.920</td>\n",
       "    </tr>\n",
       "    <tr>\n",
       "      <th>Price</th>\n",
       "      <td>808.0</td>\n",
       "      <td>13.553465</td>\n",
       "      <td>14.979073</td>\n",
       "      <td>0.7</td>\n",
       "      <td>5.0000</td>\n",
       "      <td>8.00</td>\n",
       "      <td>16.9625</td>\n",
       "      <td>160.000</td>\n",
       "    </tr>\n",
       "    <tr>\n",
       "      <th>Horse_Power</th>\n",
       "      <td>808.0</td>\n",
       "      <td>119.316386</td>\n",
       "      <td>55.728693</td>\n",
       "      <td>53.0</td>\n",
       "      <td>81.8000</td>\n",
       "      <td>98.96</td>\n",
       "      <td>152.2200</td>\n",
       "      <td>444.000</td>\n",
       "    </tr>\n",
       "    <tr>\n",
       "      <th>Engine_Power</th>\n",
       "      <td>808.0</td>\n",
       "      <td>1609.896040</td>\n",
       "      <td>566.150132</td>\n",
       "      <td>799.0</td>\n",
       "      <td>1197.0000</td>\n",
       "      <td>1496.00</td>\n",
       "      <td>1995.0000</td>\n",
       "      <td>4951.000</td>\n",
       "    </tr>\n",
       "    <tr>\n",
       "      <th>Fuel_Consumption_kmpl</th>\n",
       "      <td>808.0</td>\n",
       "      <td>19.768225</td>\n",
       "      <td>5.177468</td>\n",
       "      <td>0.0</td>\n",
       "      <td>16.8150</td>\n",
       "      <td>19.50</td>\n",
       "      <td>22.6900</td>\n",
       "      <td>46.956</td>\n",
       "    </tr>\n",
       "  </tbody>\n",
       "</table>\n",
       "</div>"
      ],
      "text/plain": [
       "                       count          mean           std     min         25%  \\\n",
       "Year                   808.0   2015.837871      2.387431  2001.0   2015.0000   \n",
       "Kilometers_Driven      808.0  40734.143564  28932.457497   600.0  20622.2500   \n",
       "Seats                  808.0      5.310644      0.801971     2.0      5.0000   \n",
       "New_Price              808.0     20.277178     20.389985     1.0      7.7525   \n",
       "Price                  808.0     13.553465     14.979073     0.7      5.0000   \n",
       "Horse_Power            808.0    119.316386     55.728693    53.0     81.8000   \n",
       "Engine_Power           808.0   1609.896040    566.150132   799.0   1197.0000   \n",
       "Fuel_Consumption_kmpl  808.0     19.768225      5.177468     0.0     16.8150   \n",
       "\n",
       "                            50%         75%         max  \n",
       "Year                    2016.00   2017.0000    2019.000  \n",
       "Kilometers_Driven      35000.00  54000.0000  215000.000  \n",
       "Seats                      5.00      5.0000       8.000  \n",
       "New_Price                 11.27     23.9575      99.920  \n",
       "Price                      8.00     16.9625     160.000  \n",
       "Horse_Power               98.96    152.2200     444.000  \n",
       "Engine_Power            1496.00   1995.0000    4951.000  \n",
       "Fuel_Consumption_kmpl     19.50     22.6900      46.956  "
      ]
     },
     "execution_count": 79,
     "metadata": {},
     "output_type": "execute_result"
    }
   ],
   "source": [
    "training_data.describe().transpose()"
   ]
  },
  {
   "cell_type": "code",
   "execution_count": 80,
   "id": "66f851e6-f1da-472d-a316-978d9b40dde9",
   "metadata": {},
   "outputs": [],
   "source": [
    "##### consider spliting data into two dataset, one with new price missing and another new price not missing. Then build model on not missing data, by splitting it into train and test sets. Then check prediction accuracy. Then use the model to predict new price missing new "
   ]
  }
 ],
 "metadata": {
  "kernelspec": {
   "display_name": "Python 3 (ipykernel)",
   "language": "python",
   "name": "python3"
  },
  "language_info": {
   "codemirror_mode": {
    "name": "ipython",
    "version": 3
   },
   "file_extension": ".py",
   "mimetype": "text/x-python",
   "name": "python",
   "nbconvert_exporter": "python",
   "pygments_lexer": "ipython3",
   "version": "3.11.7"
  }
 },
 "nbformat": 4,
 "nbformat_minor": 5
}
