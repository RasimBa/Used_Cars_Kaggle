{
 "cells": [
  {
   "cell_type": "markdown",
   "id": "a3d4159a",
   "metadata": {},
   "source": [
    "# Kaggle Dataset: Used Cars"
   ]
  },
  {
   "cell_type": "markdown",
   "id": "72ef6d57",
   "metadata": {},
   "source": [
    "### Importing libraries"
   ]
  },
  {
   "cell_type": "code",
   "execution_count": 1,
   "id": "90191ee5",
   "metadata": {},
   "outputs": [],
   "source": [
    "import pandas as pd\n",
    "import numpy as np\n",
    "import matplotlib.pyplot as plt"
   ]
  },
  {
   "cell_type": "markdown",
   "id": "aa1714ef",
   "metadata": {},
   "source": [
    "### Custom functions"
   ]
  },
  {
   "cell_type": "code",
   "execution_count": 2,
   "id": "f695c6fe",
   "metadata": {},
   "outputs": [],
   "source": [
    "def calculate_price_in_rupee(row):\n",
    "    \n",
    "    '''The function calculates the price in rupees based on values in New_Price column \n",
    "    reflected as numbers with scientific notation abbreviations: either in Cr or Lakh. \n",
    "    It converts these values into normal numbers using the values from Price_Notation column \n",
    "    and assigns new numeric values to New_Price column.'''\n",
    "    \n",
    "    price_number = row['New_Price']\n",
    "    price_text = row['Price_Notation']\n",
    "     \n",
    "    conversion_factors ={\n",
    "        'lakh':100000,\n",
    "        'cr':10000000\n",
    "    }\n",
    "    \n",
    "    return price_number * conversion_factors.get(price_text, 1)"
   ]
  },
  {
   "cell_type": "code",
   "execution_count": 3,
   "id": "d214a354",
   "metadata": {},
   "outputs": [],
   "source": [
    "def convert_to_kilometer_per_litr(row):\n",
    "    \n",
    "    \"\"\"The function converts the values in Fuel_Consumption column to kilometer per litr \n",
    "    based on the metrics in Consumption_Measure column\"\"\"\n",
    "    \n",
    "    consumption = row['Fuel_Consumption']\n",
    "    measure = row['Consumption_Measure']\n",
    "    \n",
    "    conversion_factors = {'kmpl': 1,\n",
    "                          'km/kg': 1.40}  # Invert conversion factor for km/kg\n",
    "    \n",
    "    return consumption * conversion_factors.get(measure, 1)"
   ]
  },
  {
   "cell_type": "markdown",
   "id": "c92f4fd4",
   "metadata": {},
   "source": [
    "## Initial Data Examination and Exploration"
   ]
  },
  {
   "cell_type": "code",
   "execution_count": 4,
   "id": "e503ecde",
   "metadata": {},
   "outputs": [],
   "source": [
    "used_cars = pd.read_csv('used_cars_data.csv')"
   ]
  },
  {
   "cell_type": "code",
   "execution_count": 5,
   "id": "28012558",
   "metadata": {},
   "outputs": [
    {
     "data": {
      "text/html": [
       "<div>\n",
       "<style scoped>\n",
       "    .dataframe tbody tr th:only-of-type {\n",
       "        vertical-align: middle;\n",
       "    }\n",
       "\n",
       "    .dataframe tbody tr th {\n",
       "        vertical-align: top;\n",
       "    }\n",
       "\n",
       "    .dataframe thead th {\n",
       "        text-align: right;\n",
       "    }\n",
       "</style>\n",
       "<table border=\"1\" class=\"dataframe\">\n",
       "  <thead>\n",
       "    <tr style=\"text-align: right;\">\n",
       "      <th></th>\n",
       "      <th>S.No.</th>\n",
       "      <th>Name</th>\n",
       "      <th>Location</th>\n",
       "      <th>Year</th>\n",
       "      <th>Kilometers_Driven</th>\n",
       "      <th>Fuel_Type</th>\n",
       "      <th>Transmission</th>\n",
       "      <th>Owner_Type</th>\n",
       "      <th>Mileage</th>\n",
       "      <th>Engine</th>\n",
       "      <th>Power</th>\n",
       "      <th>Seats</th>\n",
       "      <th>New_Price</th>\n",
       "      <th>Price</th>\n",
       "    </tr>\n",
       "  </thead>\n",
       "  <tbody>\n",
       "    <tr>\n",
       "      <th>4289</th>\n",
       "      <td>4289</td>\n",
       "      <td>Hyundai Verna Transform Xxi ABS</td>\n",
       "      <td>Bangalore</td>\n",
       "      <td>2011</td>\n",
       "      <td>60000</td>\n",
       "      <td>Petrol</td>\n",
       "      <td>Manual</td>\n",
       "      <td>First</td>\n",
       "      <td>16.2 kmpl</td>\n",
       "      <td>1599 CC</td>\n",
       "      <td>103.2 bhp</td>\n",
       "      <td>5.0</td>\n",
       "      <td>NaN</td>\n",
       "      <td>3.95</td>\n",
       "    </tr>\n",
       "    <tr>\n",
       "      <th>3718</th>\n",
       "      <td>3718</td>\n",
       "      <td>Volkswagen Polo Diesel Comfortline 1.2L</td>\n",
       "      <td>Delhi</td>\n",
       "      <td>2013</td>\n",
       "      <td>77445</td>\n",
       "      <td>Diesel</td>\n",
       "      <td>Manual</td>\n",
       "      <td>First</td>\n",
       "      <td>22.07 kmpl</td>\n",
       "      <td>1199 CC</td>\n",
       "      <td>73.9 bhp</td>\n",
       "      <td>5.0</td>\n",
       "      <td>NaN</td>\n",
       "      <td>3.75</td>\n",
       "    </tr>\n",
       "    <tr>\n",
       "      <th>1565</th>\n",
       "      <td>1565</td>\n",
       "      <td>Volkswagen Passat Diesel Highline 2.0 TDI</td>\n",
       "      <td>Chennai</td>\n",
       "      <td>2011</td>\n",
       "      <td>95000</td>\n",
       "      <td>Diesel</td>\n",
       "      <td>Automatic</td>\n",
       "      <td>Second</td>\n",
       "      <td>18.33 kmpl</td>\n",
       "      <td>1968 CC</td>\n",
       "      <td>167.7 bhp</td>\n",
       "      <td>5.0</td>\n",
       "      <td>NaN</td>\n",
       "      <td>8.50</td>\n",
       "    </tr>\n",
       "    <tr>\n",
       "      <th>3294</th>\n",
       "      <td>3294</td>\n",
       "      <td>Chevrolet Beat LT</td>\n",
       "      <td>Pune</td>\n",
       "      <td>2011</td>\n",
       "      <td>48000</td>\n",
       "      <td>Petrol</td>\n",
       "      <td>Manual</td>\n",
       "      <td>Second</td>\n",
       "      <td>18.6 kmpl</td>\n",
       "      <td>1199 CC</td>\n",
       "      <td>79.4 bhp</td>\n",
       "      <td>5.0</td>\n",
       "      <td>NaN</td>\n",
       "      <td>1.80</td>\n",
       "    </tr>\n",
       "    <tr>\n",
       "      <th>2823</th>\n",
       "      <td>2823</td>\n",
       "      <td>Volkswagen Jetta 2013-2015 2.0L TDI Highline AT</td>\n",
       "      <td>Chennai</td>\n",
       "      <td>2015</td>\n",
       "      <td>480000</td>\n",
       "      <td>Diesel</td>\n",
       "      <td>Automatic</td>\n",
       "      <td>First</td>\n",
       "      <td>16.96 kmpl</td>\n",
       "      <td>1968 CC</td>\n",
       "      <td>138.03 bhp</td>\n",
       "      <td>5.0</td>\n",
       "      <td>NaN</td>\n",
       "      <td>13.00</td>\n",
       "    </tr>\n",
       "    <tr>\n",
       "      <th>192</th>\n",
       "      <td>192</td>\n",
       "      <td>Ford Figo Diesel ZXI</td>\n",
       "      <td>Chennai</td>\n",
       "      <td>2010</td>\n",
       "      <td>120000</td>\n",
       "      <td>Diesel</td>\n",
       "      <td>Manual</td>\n",
       "      <td>First</td>\n",
       "      <td>20.0 kmpl</td>\n",
       "      <td>1399 CC</td>\n",
       "      <td>68 bhp</td>\n",
       "      <td>5.0</td>\n",
       "      <td>NaN</td>\n",
       "      <td>2.60</td>\n",
       "    </tr>\n",
       "    <tr>\n",
       "      <th>4093</th>\n",
       "      <td>4093</td>\n",
       "      <td>Maruti Ciaz ZDi</td>\n",
       "      <td>Delhi</td>\n",
       "      <td>2015</td>\n",
       "      <td>46166</td>\n",
       "      <td>Diesel</td>\n",
       "      <td>Manual</td>\n",
       "      <td>Second</td>\n",
       "      <td>26.21 kmpl</td>\n",
       "      <td>1248 CC</td>\n",
       "      <td>88.5 bhp</td>\n",
       "      <td>5.0</td>\n",
       "      <td>NaN</td>\n",
       "      <td>5.50</td>\n",
       "    </tr>\n",
       "    <tr>\n",
       "      <th>4</th>\n",
       "      <td>4</td>\n",
       "      <td>Audi A4 New 2.0 TDI Multitronic</td>\n",
       "      <td>Coimbatore</td>\n",
       "      <td>2013</td>\n",
       "      <td>40670</td>\n",
       "      <td>Diesel</td>\n",
       "      <td>Automatic</td>\n",
       "      <td>Second</td>\n",
       "      <td>15.2 kmpl</td>\n",
       "      <td>1968 CC</td>\n",
       "      <td>140.8 bhp</td>\n",
       "      <td>5.0</td>\n",
       "      <td>NaN</td>\n",
       "      <td>17.74</td>\n",
       "    </tr>\n",
       "    <tr>\n",
       "      <th>6934</th>\n",
       "      <td>6934</td>\n",
       "      <td>Maruti A-Star Vxi</td>\n",
       "      <td>Chennai</td>\n",
       "      <td>2009</td>\n",
       "      <td>53000</td>\n",
       "      <td>Petrol</td>\n",
       "      <td>Manual</td>\n",
       "      <td>Second</td>\n",
       "      <td>19.0 kmpl</td>\n",
       "      <td>998 CC</td>\n",
       "      <td>66.1 bhp</td>\n",
       "      <td>5.0</td>\n",
       "      <td>NaN</td>\n",
       "      <td>NaN</td>\n",
       "    </tr>\n",
       "    <tr>\n",
       "      <th>5589</th>\n",
       "      <td>5589</td>\n",
       "      <td>Hyundai Elantra CRDi SX</td>\n",
       "      <td>Ahmedabad</td>\n",
       "      <td>2018</td>\n",
       "      <td>35000</td>\n",
       "      <td>Diesel</td>\n",
       "      <td>Manual</td>\n",
       "      <td>First</td>\n",
       "      <td>22.7 kmpl</td>\n",
       "      <td>1582 CC</td>\n",
       "      <td>126.2 bhp</td>\n",
       "      <td>5.0</td>\n",
       "      <td>NaN</td>\n",
       "      <td>15.00</td>\n",
       "    </tr>\n",
       "    <tr>\n",
       "      <th>4570</th>\n",
       "      <td>4570</td>\n",
       "      <td>Maruti Vitara Brezza ZDi Plus AMT Dual Tone</td>\n",
       "      <td>Chennai</td>\n",
       "      <td>2018</td>\n",
       "      <td>3300</td>\n",
       "      <td>Diesel</td>\n",
       "      <td>Automatic</td>\n",
       "      <td>First</td>\n",
       "      <td>24.3 kmpl</td>\n",
       "      <td>1248 CC</td>\n",
       "      <td>88.5 bhp</td>\n",
       "      <td>5.0</td>\n",
       "      <td>12.88 Lakh</td>\n",
       "      <td>11.50</td>\n",
       "    </tr>\n",
       "    <tr>\n",
       "      <th>3694</th>\n",
       "      <td>3694</td>\n",
       "      <td>Honda Amaze VX i-DTEC</td>\n",
       "      <td>Hyderabad</td>\n",
       "      <td>2014</td>\n",
       "      <td>74885</td>\n",
       "      <td>Diesel</td>\n",
       "      <td>Manual</td>\n",
       "      <td>First</td>\n",
       "      <td>25.8 kmpl</td>\n",
       "      <td>1498 CC</td>\n",
       "      <td>98.6 bhp</td>\n",
       "      <td>5.0</td>\n",
       "      <td>NaN</td>\n",
       "      <td>5.40</td>\n",
       "    </tr>\n",
       "    <tr>\n",
       "      <th>2131</th>\n",
       "      <td>2131</td>\n",
       "      <td>Honda City 1.5 V MT Exclusive</td>\n",
       "      <td>Mumbai</td>\n",
       "      <td>2013</td>\n",
       "      <td>45000</td>\n",
       "      <td>Petrol</td>\n",
       "      <td>Manual</td>\n",
       "      <td>First</td>\n",
       "      <td>17.0 kmpl</td>\n",
       "      <td>1497 CC</td>\n",
       "      <td>118 bhp</td>\n",
       "      <td>5.0</td>\n",
       "      <td>NaN</td>\n",
       "      <td>4.55</td>\n",
       "    </tr>\n",
       "    <tr>\n",
       "      <th>5175</th>\n",
       "      <td>5175</td>\n",
       "      <td>BMW 5 Series 530d M Sport</td>\n",
       "      <td>Chennai</td>\n",
       "      <td>2010</td>\n",
       "      <td>58000</td>\n",
       "      <td>Diesel</td>\n",
       "      <td>Automatic</td>\n",
       "      <td>First</td>\n",
       "      <td>18.59 kmpl</td>\n",
       "      <td>2993 CC</td>\n",
       "      <td>265 bhp</td>\n",
       "      <td>5.0</td>\n",
       "      <td>79.78 Lakh</td>\n",
       "      <td>11.75</td>\n",
       "    </tr>\n",
       "    <tr>\n",
       "      <th>1043</th>\n",
       "      <td>1043</td>\n",
       "      <td>Nissan Terrano XV Premium 110 PS</td>\n",
       "      <td>Kochi</td>\n",
       "      <td>2015</td>\n",
       "      <td>43190</td>\n",
       "      <td>Diesel</td>\n",
       "      <td>Manual</td>\n",
       "      <td>First</td>\n",
       "      <td>19.01 kmpl</td>\n",
       "      <td>1461 CC</td>\n",
       "      <td>108.5 bhp</td>\n",
       "      <td>5.0</td>\n",
       "      <td>NaN</td>\n",
       "      <td>7.61</td>\n",
       "    </tr>\n",
       "  </tbody>\n",
       "</table>\n",
       "</div>"
      ],
      "text/plain": [
       "      S.No.                                             Name    Location  \\\n",
       "4289   4289                  Hyundai Verna Transform Xxi ABS   Bangalore   \n",
       "3718   3718          Volkswagen Polo Diesel Comfortline 1.2L       Delhi   \n",
       "1565   1565        Volkswagen Passat Diesel Highline 2.0 TDI     Chennai   \n",
       "3294   3294                                Chevrolet Beat LT        Pune   \n",
       "2823   2823  Volkswagen Jetta 2013-2015 2.0L TDI Highline AT     Chennai   \n",
       "192     192                             Ford Figo Diesel ZXI     Chennai   \n",
       "4093   4093                                  Maruti Ciaz ZDi       Delhi   \n",
       "4         4                  Audi A4 New 2.0 TDI Multitronic  Coimbatore   \n",
       "6934   6934                                Maruti A-Star Vxi     Chennai   \n",
       "5589   5589                          Hyundai Elantra CRDi SX   Ahmedabad   \n",
       "4570   4570      Maruti Vitara Brezza ZDi Plus AMT Dual Tone     Chennai   \n",
       "3694   3694                            Honda Amaze VX i-DTEC   Hyderabad   \n",
       "2131   2131                    Honda City 1.5 V MT Exclusive      Mumbai   \n",
       "5175   5175                        BMW 5 Series 530d M Sport     Chennai   \n",
       "1043   1043                 Nissan Terrano XV Premium 110 PS       Kochi   \n",
       "\n",
       "      Year  Kilometers_Driven Fuel_Type Transmission Owner_Type     Mileage  \\\n",
       "4289  2011              60000    Petrol       Manual      First   16.2 kmpl   \n",
       "3718  2013              77445    Diesel       Manual      First  22.07 kmpl   \n",
       "1565  2011              95000    Diesel    Automatic     Second  18.33 kmpl   \n",
       "3294  2011              48000    Petrol       Manual     Second   18.6 kmpl   \n",
       "2823  2015             480000    Diesel    Automatic      First  16.96 kmpl   \n",
       "192   2010             120000    Diesel       Manual      First   20.0 kmpl   \n",
       "4093  2015              46166    Diesel       Manual     Second  26.21 kmpl   \n",
       "4     2013              40670    Diesel    Automatic     Second   15.2 kmpl   \n",
       "6934  2009              53000    Petrol       Manual     Second   19.0 kmpl   \n",
       "5589  2018              35000    Diesel       Manual      First   22.7 kmpl   \n",
       "4570  2018               3300    Diesel    Automatic      First   24.3 kmpl   \n",
       "3694  2014              74885    Diesel       Manual      First   25.8 kmpl   \n",
       "2131  2013              45000    Petrol       Manual      First   17.0 kmpl   \n",
       "5175  2010              58000    Diesel    Automatic      First  18.59 kmpl   \n",
       "1043  2015              43190    Diesel       Manual      First  19.01 kmpl   \n",
       "\n",
       "       Engine       Power  Seats   New_Price  Price  \n",
       "4289  1599 CC   103.2 bhp    5.0         NaN   3.95  \n",
       "3718  1199 CC    73.9 bhp    5.0         NaN   3.75  \n",
       "1565  1968 CC   167.7 bhp    5.0         NaN   8.50  \n",
       "3294  1199 CC    79.4 bhp    5.0         NaN   1.80  \n",
       "2823  1968 CC  138.03 bhp    5.0         NaN  13.00  \n",
       "192   1399 CC      68 bhp    5.0         NaN   2.60  \n",
       "4093  1248 CC    88.5 bhp    5.0         NaN   5.50  \n",
       "4     1968 CC   140.8 bhp    5.0         NaN  17.74  \n",
       "6934   998 CC    66.1 bhp    5.0         NaN    NaN  \n",
       "5589  1582 CC   126.2 bhp    5.0         NaN  15.00  \n",
       "4570  1248 CC    88.5 bhp    5.0  12.88 Lakh  11.50  \n",
       "3694  1498 CC    98.6 bhp    5.0         NaN   5.40  \n",
       "2131  1497 CC     118 bhp    5.0         NaN   4.55  \n",
       "5175  2993 CC     265 bhp    5.0  79.78 Lakh  11.75  \n",
       "1043  1461 CC   108.5 bhp    5.0         NaN   7.61  "
      ]
     },
     "execution_count": 5,
     "metadata": {},
     "output_type": "execute_result"
    }
   ],
   "source": [
    "used_cars.sample(15, random_state = 123)"
   ]
  },
  {
   "cell_type": "code",
   "execution_count": 6,
   "id": "bf0334f1",
   "metadata": {},
   "outputs": [
    {
     "data": {
      "text/plain": [
       "(7253, 14)"
      ]
     },
     "execution_count": 6,
     "metadata": {},
     "output_type": "execute_result"
    }
   ],
   "source": [
    "used_cars.shape"
   ]
  },
  {
   "cell_type": "code",
   "execution_count": 7,
   "id": "a585c72f",
   "metadata": {},
   "outputs": [
    {
     "data": {
      "text/plain": [
       "<bound method NDFrame.describe of       S.No.                                               Name    Location  \\\n",
       "0         0                             Maruti Wagon R LXI CNG      Mumbai   \n",
       "1         1                   Hyundai Creta 1.6 CRDi SX Option        Pune   \n",
       "2         2                                       Honda Jazz V     Chennai   \n",
       "3         3                                  Maruti Ertiga VDI     Chennai   \n",
       "4         4                    Audi A4 New 2.0 TDI Multitronic  Coimbatore   \n",
       "...     ...                                                ...         ...   \n",
       "7248   7248                  Volkswagen Vento Diesel Trendline   Hyderabad   \n",
       "7249   7249                             Volkswagen Polo GT TSI      Mumbai   \n",
       "7250   7250                             Nissan Micra Diesel XV     Kolkata   \n",
       "7251   7251                             Volkswagen Polo GT TSI        Pune   \n",
       "7252   7252  Mercedes-Benz E-Class 2009-2013 E 220 CDI Avan...       Kochi   \n",
       "\n",
       "      Year  Kilometers_Driven Fuel_Type Transmission Owner_Type     Mileage  \\\n",
       "0     2010              72000       CNG       Manual      First  26.6 km/kg   \n",
       "1     2015              41000    Diesel       Manual      First  19.67 kmpl   \n",
       "2     2011              46000    Petrol       Manual      First   18.2 kmpl   \n",
       "3     2012              87000    Diesel       Manual      First  20.77 kmpl   \n",
       "4     2013              40670    Diesel    Automatic     Second   15.2 kmpl   \n",
       "...    ...                ...       ...          ...        ...         ...   \n",
       "7248  2011              89411    Diesel       Manual      First  20.54 kmpl   \n",
       "7249  2015              59000    Petrol    Automatic      First  17.21 kmpl   \n",
       "7250  2012              28000    Diesel       Manual      First  23.08 kmpl   \n",
       "7251  2013              52262    Petrol    Automatic      Third   17.2 kmpl   \n",
       "7252  2014              72443    Diesel    Automatic      First   10.0 kmpl   \n",
       "\n",
       "       Engine      Power  Seats  New_Price  Price  \n",
       "0      998 CC  58.16 bhp    5.0        NaN   1.75  \n",
       "1     1582 CC  126.2 bhp    5.0        NaN  12.50  \n",
       "2     1199 CC   88.7 bhp    5.0  8.61 Lakh   4.50  \n",
       "3     1248 CC  88.76 bhp    7.0        NaN   6.00  \n",
       "4     1968 CC  140.8 bhp    5.0        NaN  17.74  \n",
       "...       ...        ...    ...        ...    ...  \n",
       "7248  1598 CC  103.6 bhp    5.0        NaN    NaN  \n",
       "7249  1197 CC  103.6 bhp    5.0        NaN    NaN  \n",
       "7250  1461 CC   63.1 bhp    5.0        NaN    NaN  \n",
       "7251  1197 CC  103.6 bhp    5.0        NaN    NaN  \n",
       "7252  2148 CC    170 bhp    5.0        NaN    NaN  \n",
       "\n",
       "[7253 rows x 14 columns]>"
      ]
     },
     "execution_count": 7,
     "metadata": {},
     "output_type": "execute_result"
    }
   ],
   "source": [
    "used_cars.describe"
   ]
  },
  {
   "cell_type": "code",
   "execution_count": 8,
   "id": "43ed82d8",
   "metadata": {
    "scrolled": false
   },
   "outputs": [
    {
     "name": "stdout",
     "output_type": "stream",
     "text": [
      "<class 'pandas.core.frame.DataFrame'>\n",
      "RangeIndex: 7253 entries, 0 to 7252\n",
      "Data columns (total 14 columns):\n",
      " #   Column             Non-Null Count  Dtype  \n",
      "---  ------             --------------  -----  \n",
      " 0   S.No.              7253 non-null   int64  \n",
      " 1   Name               7253 non-null   object \n",
      " 2   Location           7253 non-null   object \n",
      " 3   Year               7253 non-null   int64  \n",
      " 4   Kilometers_Driven  7253 non-null   int64  \n",
      " 5   Fuel_Type          7253 non-null   object \n",
      " 6   Transmission       7253 non-null   object \n",
      " 7   Owner_Type         7253 non-null   object \n",
      " 8   Mileage            7251 non-null   object \n",
      " 9   Engine             7207 non-null   object \n",
      " 10  Power              7207 non-null   object \n",
      " 11  Seats              7200 non-null   float64\n",
      " 12  New_Price          1006 non-null   object \n",
      " 13  Price              6019 non-null   float64\n",
      "dtypes: float64(2), int64(3), object(9)\n",
      "memory usage: 793.4+ KB\n"
     ]
    }
   ],
   "source": [
    "used_cars.info()"
   ]
  },
  {
   "cell_type": "code",
   "execution_count": 9,
   "id": "20dd1b5e",
   "metadata": {},
   "outputs": [
    {
     "data": {
      "text/plain": [
       "['S.No.',\n",
       " 'Name',\n",
       " 'Location',\n",
       " 'Year',\n",
       " 'Kilometers_Driven',\n",
       " 'Fuel_Type',\n",
       " 'Transmission',\n",
       " 'Owner_Type',\n",
       " 'Mileage',\n",
       " 'Engine',\n",
       " 'Power',\n",
       " 'Seats',\n",
       " 'New_Price',\n",
       " 'Price']"
      ]
     },
     "execution_count": 9,
     "metadata": {},
     "output_type": "execute_result"
    }
   ],
   "source": [
    "used_cars.columns.tolist()"
   ]
  },
  {
   "cell_type": "code",
   "execution_count": 10,
   "id": "1357456e",
   "metadata": {},
   "outputs": [
    {
     "data": {
      "text/plain": [
       "S.No.                   0\n",
       "Name                    0\n",
       "Location                0\n",
       "Year                    0\n",
       "Kilometers_Driven       0\n",
       "Fuel_Type               0\n",
       "Transmission            0\n",
       "Owner_Type              0\n",
       "Mileage                 2\n",
       "Engine                 46\n",
       "Power                  46\n",
       "Seats                  53\n",
       "New_Price            6247\n",
       "Price                1234\n",
       "dtype: int64"
      ]
     },
     "execution_count": 10,
     "metadata": {},
     "output_type": "execute_result"
    }
   ],
   "source": [
    "used_cars.isna().sum()"
   ]
  },
  {
   "cell_type": "markdown",
   "id": "a96f6a85",
   "metadata": {},
   "source": [
    "# Data Manipulation for Further Analysis"
   ]
  },
  {
   "cell_type": "markdown",
   "id": "af7cde70",
   "metadata": {},
   "source": [
    "### In 'Power', 'Engine', 'Mileage' & 'New_Price' columns splitting numbers and respective metrics"
   ]
  },
  {
   "cell_type": "code",
   "execution_count": 11,
   "id": "2c53bc93",
   "metadata": {},
   "outputs": [],
   "source": [
    "used_cars[['Horse_Power', 'Horse_Power_Unit']] = used_cars['Power'].str.split(' ', expand=True)"
   ]
  },
  {
   "cell_type": "code",
   "execution_count": 12,
   "id": "daddcdb9",
   "metadata": {},
   "outputs": [
    {
     "data": {
      "text/html": [
       "<div>\n",
       "<style scoped>\n",
       "    .dataframe tbody tr th:only-of-type {\n",
       "        vertical-align: middle;\n",
       "    }\n",
       "\n",
       "    .dataframe tbody tr th {\n",
       "        vertical-align: top;\n",
       "    }\n",
       "\n",
       "    .dataframe thead th {\n",
       "        text-align: right;\n",
       "    }\n",
       "</style>\n",
       "<table border=\"1\" class=\"dataframe\">\n",
       "  <thead>\n",
       "    <tr style=\"text-align: right;\">\n",
       "      <th></th>\n",
       "      <th>Horse_Power</th>\n",
       "      <th>Horse_Power_Unit</th>\n",
       "    </tr>\n",
       "  </thead>\n",
       "  <tbody>\n",
       "    <tr>\n",
       "      <th>0</th>\n",
       "      <td>58.16</td>\n",
       "      <td>bhp</td>\n",
       "    </tr>\n",
       "    <tr>\n",
       "      <th>1</th>\n",
       "      <td>126.2</td>\n",
       "      <td>bhp</td>\n",
       "    </tr>\n",
       "  </tbody>\n",
       "</table>\n",
       "</div>"
      ],
      "text/plain": [
       "  Horse_Power Horse_Power_Unit\n",
       "0       58.16              bhp\n",
       "1       126.2              bhp"
      ]
     },
     "execution_count": 12,
     "metadata": {},
     "output_type": "execute_result"
    }
   ],
   "source": [
    "used_cars[['Horse_Power', 'Horse_Power_Unit']].head(2)"
   ]
  },
  {
   "cell_type": "code",
   "execution_count": 13,
   "id": "47691a2a",
   "metadata": {},
   "outputs": [],
   "source": [
    "# There are values equal to string 'null' in 'Hourse_Power' that needs to be treated \n",
    "used_cars.loc[used_cars['Horse_Power'] == 'null', 'Horse_Power'] = pd.NA"
   ]
  },
  {
   "cell_type": "code",
   "execution_count": 14,
   "id": "a43ac436",
   "metadata": {},
   "outputs": [],
   "source": [
    "# Converting 'Hours_Power' column to numeric type\n",
    "used_cars['Horse_Power'] = pd.to_numeric(used_cars['Horse_Power'])"
   ]
  },
  {
   "cell_type": "markdown",
   "id": "799f77f3",
   "metadata": {},
   "source": [
    "#### splitting values in Engine column"
   ]
  },
  {
   "cell_type": "code",
   "execution_count": 15,
   "id": "735f6e49",
   "metadata": {},
   "outputs": [],
   "source": [
    "used_cars[['Engine_Power', 'Engine_Power_Unit']] = used_cars['Engine'].str.split(' ', expand=True)"
   ]
  },
  {
   "cell_type": "code",
   "execution_count": 16,
   "id": "ce5382f2",
   "metadata": {},
   "outputs": [
    {
     "data": {
      "text/html": [
       "<div>\n",
       "<style scoped>\n",
       "    .dataframe tbody tr th:only-of-type {\n",
       "        vertical-align: middle;\n",
       "    }\n",
       "\n",
       "    .dataframe tbody tr th {\n",
       "        vertical-align: top;\n",
       "    }\n",
       "\n",
       "    .dataframe thead th {\n",
       "        text-align: right;\n",
       "    }\n",
       "</style>\n",
       "<table border=\"1\" class=\"dataframe\">\n",
       "  <thead>\n",
       "    <tr style=\"text-align: right;\">\n",
       "      <th></th>\n",
       "      <th>Engine_Power</th>\n",
       "      <th>Engine_Power_Unit</th>\n",
       "    </tr>\n",
       "  </thead>\n",
       "  <tbody>\n",
       "    <tr>\n",
       "      <th>0</th>\n",
       "      <td>998</td>\n",
       "      <td>CC</td>\n",
       "    </tr>\n",
       "    <tr>\n",
       "      <th>1</th>\n",
       "      <td>1582</td>\n",
       "      <td>CC</td>\n",
       "    </tr>\n",
       "  </tbody>\n",
       "</table>\n",
       "</div>"
      ],
      "text/plain": [
       "  Engine_Power Engine_Power_Unit\n",
       "0          998                CC\n",
       "1         1582                CC"
      ]
     },
     "execution_count": 16,
     "metadata": {},
     "output_type": "execute_result"
    }
   ],
   "source": [
    "used_cars[['Engine_Power', 'Engine_Power_Unit']].head(2)"
   ]
  },
  {
   "cell_type": "markdown",
   "id": "1642035e",
   "metadata": {},
   "source": [
    "#### splitting values in New_Price column"
   ]
  },
  {
   "cell_type": "code",
   "execution_count": 17,
   "id": "a1bb549a",
   "metadata": {},
   "outputs": [],
   "source": [
    "used_cars[['New_Price', 'Price_Notation']] = used_cars['New_Price'].str.split(' ', expand = True)"
   ]
  },
  {
   "cell_type": "code",
   "execution_count": 18,
   "id": "1bf8c9fb",
   "metadata": {},
   "outputs": [],
   "source": [
    "used_cars['New_Price'] = used_cars['New_Price'].str.strip()"
   ]
  },
  {
   "cell_type": "code",
   "execution_count": 19,
   "id": "2730013d",
   "metadata": {},
   "outputs": [],
   "source": [
    "used_cars['New_Price'] = pd.to_numeric(used_cars['New_Price'])"
   ]
  },
  {
   "cell_type": "code",
   "execution_count": 20,
   "id": "7bbdc26a",
   "metadata": {},
   "outputs": [],
   "source": [
    "# Apply the function to convert everything to rupee in New_Price\n",
    "used_cars['New_Price'] = used_cars.apply(calculate_price_in_rupee, axis=1)"
   ]
  },
  {
   "cell_type": "code",
   "execution_count": 21,
   "id": "a4e898ba",
   "metadata": {},
   "outputs": [
    {
     "data": {
      "text/html": [
       "<div>\n",
       "<style scoped>\n",
       "    .dataframe tbody tr th:only-of-type {\n",
       "        vertical-align: middle;\n",
       "    }\n",
       "\n",
       "    .dataframe tbody tr th {\n",
       "        vertical-align: top;\n",
       "    }\n",
       "\n",
       "    .dataframe thead th {\n",
       "        text-align: right;\n",
       "    }\n",
       "</style>\n",
       "<table border=\"1\" class=\"dataframe\">\n",
       "  <thead>\n",
       "    <tr style=\"text-align: right;\">\n",
       "      <th></th>\n",
       "      <th>New_Price</th>\n",
       "      <th>Price_Notation</th>\n",
       "    </tr>\n",
       "  </thead>\n",
       "  <tbody>\n",
       "    <tr>\n",
       "      <th>2397</th>\n",
       "      <td>9.47</td>\n",
       "      <td>Lakh</td>\n",
       "    </tr>\n",
       "    <tr>\n",
       "      <th>3777</th>\n",
       "      <td>5.44</td>\n",
       "      <td>Lakh</td>\n",
       "    </tr>\n",
       "  </tbody>\n",
       "</table>\n",
       "</div>"
      ],
      "text/plain": [
       "      New_Price Price_Notation\n",
       "2397       9.47           Lakh\n",
       "3777       5.44           Lakh"
      ]
     },
     "execution_count": 21,
     "metadata": {},
     "output_type": "execute_result"
    }
   ],
   "source": [
    "used_cars[['New_Price', 'Price_Notation']].sample(2,random_state = 1)"
   ]
  },
  {
   "cell_type": "markdown",
   "id": "613dff01",
   "metadata": {},
   "source": [
    "#### splitting values in Mileage"
   ]
  },
  {
   "cell_type": "code",
   "execution_count": 22,
   "id": "3071ac56",
   "metadata": {},
   "outputs": [],
   "source": [
    "used_cars[['Fuel_Consumption', 'Consumption_Measure']] = used_cars['Mileage'].str.split(' ', expand = True)"
   ]
  },
  {
   "cell_type": "code",
   "execution_count": 23,
   "id": "0321ddfd",
   "metadata": {},
   "outputs": [],
   "source": [
    "used_cars['Fuel_Consumption'] = pd.to_numeric(used_cars['Fuel_Consumption'])"
   ]
  },
  {
   "cell_type": "code",
   "execution_count": 24,
   "id": "54a16b12",
   "metadata": {},
   "outputs": [
    {
     "data": {
      "text/html": [
       "<div>\n",
       "<style scoped>\n",
       "    .dataframe tbody tr th:only-of-type {\n",
       "        vertical-align: middle;\n",
       "    }\n",
       "\n",
       "    .dataframe tbody tr th {\n",
       "        vertical-align: top;\n",
       "    }\n",
       "\n",
       "    .dataframe thead th {\n",
       "        text-align: right;\n",
       "    }\n",
       "</style>\n",
       "<table border=\"1\" class=\"dataframe\">\n",
       "  <thead>\n",
       "    <tr style=\"text-align: right;\">\n",
       "      <th></th>\n",
       "      <th>Fuel_Consumption</th>\n",
       "      <th>Consumption_Measure</th>\n",
       "    </tr>\n",
       "  </thead>\n",
       "  <tbody>\n",
       "    <tr>\n",
       "      <th>0</th>\n",
       "      <td>26.60</td>\n",
       "      <td>km/kg</td>\n",
       "    </tr>\n",
       "    <tr>\n",
       "      <th>1</th>\n",
       "      <td>19.67</td>\n",
       "      <td>kmpl</td>\n",
       "    </tr>\n",
       "  </tbody>\n",
       "</table>\n",
       "</div>"
      ],
      "text/plain": [
       "   Fuel_Consumption Consumption_Measure\n",
       "0             26.60               km/kg\n",
       "1             19.67                kmpl"
      ]
     },
     "execution_count": 24,
     "metadata": {},
     "output_type": "execute_result"
    }
   ],
   "source": [
    "used_cars[['Fuel_Consumption', 'Consumption_Measure']].head(2)"
   ]
  },
  {
   "cell_type": "markdown",
   "id": "9335371c",
   "metadata": {},
   "source": [
    "<span style ='color:red'>[Note] There are two different measures in Mileage_Measure column that must be converted to identical measure</span>"
   ]
  },
  {
   "cell_type": "code",
   "execution_count": 25,
   "id": "828d3045",
   "metadata": {},
   "outputs": [
    {
     "data": {
      "text/plain": [
       "kmpl     7177\n",
       "km/kg      74\n",
       "Name: Consumption_Measure, dtype: int64"
      ]
     },
     "execution_count": 25,
     "metadata": {},
     "output_type": "execute_result"
    }
   ],
   "source": [
    "used_cars['Consumption_Measure'].value_counts()"
   ]
  },
  {
   "cell_type": "markdown",
   "id": "64040710",
   "metadata": {},
   "source": [
    "### Adding new column: Fuel_Consumption_kmpl, where all measures are converted to kmpl"
   ]
  },
  {
   "cell_type": "code",
   "execution_count": 26,
   "id": "99f3ef25",
   "metadata": {},
   "outputs": [],
   "source": [
    "used_cars['Fuel_Consumption_kmpl'] = used_cars.apply(convert_to_kilometer_per_litr, axis=1)"
   ]
  },
  {
   "cell_type": "code",
   "execution_count": 27,
   "id": "a4e8752d",
   "metadata": {},
   "outputs": [
    {
     "data": {
      "text/html": [
       "<div>\n",
       "<style scoped>\n",
       "    .dataframe tbody tr th:only-of-type {\n",
       "        vertical-align: middle;\n",
       "    }\n",
       "\n",
       "    .dataframe tbody tr th {\n",
       "        vertical-align: top;\n",
       "    }\n",
       "\n",
       "    .dataframe thead th {\n",
       "        text-align: right;\n",
       "    }\n",
       "</style>\n",
       "<table border=\"1\" class=\"dataframe\">\n",
       "  <thead>\n",
       "    <tr style=\"text-align: right;\">\n",
       "      <th></th>\n",
       "      <th>Fuel_Consumption_kmpl</th>\n",
       "      <th>Mileage</th>\n",
       "    </tr>\n",
       "  </thead>\n",
       "  <tbody>\n",
       "    <tr>\n",
       "      <th>6538</th>\n",
       "      <td>45.164</td>\n",
       "      <td>32.26 km/kg</td>\n",
       "    </tr>\n",
       "    <tr>\n",
       "      <th>5902</th>\n",
       "      <td>36.680</td>\n",
       "      <td>26.2 km/kg</td>\n",
       "    </tr>\n",
       "    <tr>\n",
       "      <th>5881</th>\n",
       "      <td>37.240</td>\n",
       "      <td>26.6 km/kg</td>\n",
       "    </tr>\n",
       "    <tr>\n",
       "      <th>1332</th>\n",
       "      <td>46.956</td>\n",
       "      <td>33.54 km/kg</td>\n",
       "    </tr>\n",
       "    <tr>\n",
       "      <th>5655</th>\n",
       "      <td>37.240</td>\n",
       "      <td>26.6 km/kg</td>\n",
       "    </tr>\n",
       "  </tbody>\n",
       "</table>\n",
       "</div>"
      ],
      "text/plain": [
       "      Fuel_Consumption_kmpl      Mileage\n",
       "6538                 45.164  32.26 km/kg\n",
       "5902                 36.680   26.2 km/kg\n",
       "5881                 37.240   26.6 km/kg\n",
       "1332                 46.956  33.54 km/kg\n",
       "5655                 37.240   26.6 km/kg"
      ]
     },
     "execution_count": 27,
     "metadata": {},
     "output_type": "execute_result"
    }
   ],
   "source": [
    "used_cars[['Fuel_Consumption_kmpl','Mileage']][used_cars['Consumption_Measure']== 'km/kg'].sample(5)"
   ]
  },
  {
   "cell_type": "code",
   "execution_count": 28,
   "id": "38c9598e",
   "metadata": {},
   "outputs": [
    {
     "data": {
      "text/plain": [
       "['Maruti',\n",
       " 'Hyundai',\n",
       " 'Honda',\n",
       " 'Audi',\n",
       " 'Nissan',\n",
       " 'Toyota',\n",
       " 'Volkswagen',\n",
       " 'Tata',\n",
       " 'Land',\n",
       " 'Mitsubishi',\n",
       " 'Renault',\n",
       " 'Mercedes-Benz',\n",
       " 'BMW',\n",
       " 'Mahindra',\n",
       " 'Ford',\n",
       " 'Porsche',\n",
       " 'Datsun',\n",
       " 'Jaguar',\n",
       " 'Volvo',\n",
       " 'Chevrolet',\n",
       " 'Skoda',\n",
       " 'Mini',\n",
       " 'Fiat',\n",
       " 'Jeep',\n",
       " 'Smart',\n",
       " 'Ambassador',\n",
       " 'Isuzu',\n",
       " 'ISUZU',\n",
       " 'Force',\n",
       " 'Bentley',\n",
       " 'Lamborghini',\n",
       " 'Hindustan',\n",
       " 'OpelCorsa']"
      ]
     },
     "execution_count": 28,
     "metadata": {},
     "output_type": "execute_result"
    }
   ],
   "source": [
    "# illustrating all unique brands\n",
    "\n",
    "brand_list = list(used_cars['Name'].str.split().str[0].unique())\n",
    "brand_list"
   ]
  },
  {
   "cell_type": "markdown",
   "id": "35a64021",
   "metadata": {},
   "source": [
    "<span style ='color:red'> Since ISUZU and Isuzu are same, we must correct that </span>"
   ]
  },
  {
   "cell_type": "code",
   "execution_count": 29,
   "id": "0b7c698a",
   "metadata": {},
   "outputs": [],
   "source": [
    "# replacing ISUZU with Isuzu\n",
    "\n",
    "used_cars['Name'] = used_cars['Name'].str.split().str[0].str.replace('ISUZU', 'Isuzu')"
   ]
  },
  {
   "cell_type": "code",
   "execution_count": 41,
   "id": "c845f5a4",
   "metadata": {},
   "outputs": [],
   "source": [
    "# replacing Land with Land Rover\n",
    "used_cars['Name'] = used_cars['Name'].str.replace('Land', 'Land Rover')"
   ]
  },
  {
   "cell_type": "code",
   "execution_count": null,
   "id": "a57b5b97",
   "metadata": {},
   "outputs": [],
   "source": []
  },
  {
   "cell_type": "code",
   "execution_count": 44,
   "id": "8374c56f",
   "metadata": {},
   "outputs": [
    {
     "data": {
      "text/plain": [
       "array(['First', 'Second', 'Fourth & Above', 'Third'], dtype=object)"
      ]
     },
     "execution_count": 44,
     "metadata": {},
     "output_type": "execute_result"
    }
   ],
   "source": [
    "used_cars['Owner_Type'].unique()"
   ]
  },
  {
   "cell_type": "markdown",
   "id": "704fdbfa",
   "metadata": {},
   "source": [
    "# Data Visualization"
   ]
  },
  {
   "cell_type": "markdown",
   "id": "1815db04",
   "metadata": {},
   "source": [
    "### Distribution of Data"
   ]
  },
  {
   "cell_type": "code",
   "execution_count": 31,
   "id": "04bd41f3",
   "metadata": {},
   "outputs": [
    {
     "data": {
      "image/png": "[encoded data removed]",
      "text/plain": [
       "<Figure size 640x480 with 1 Axes>"
      ]
     },
     "metadata": {},
     "output_type": "display_data"
    }
   ],
   "source": [
    "plt.hist(used_cars['Price'], bins=20)   \n",
    "plt.xlabel('Values')\n",
    "plt.ylabel('Frequency')\n",
    "plt.title('Distribution of Values in Price')\n",
    "plt.show()"
   ]
  },
  {
   "cell_type": "code",
   "execution_count": 32,
   "id": "27cc561d",
   "metadata": {},
   "outputs": [
    {
     "data": {
      "image/png": "[encoded data removed]",
      "text/plain": [
       "<Figure size 640x480 with 1 Axes>"
      ]
     },
     "metadata": {},
     "output_type": "display_data"
    }
   ],
   "source": [
    "# Drop NaN values from the 'Horse_Power' column\n",
    "\n",
    "data = used_cars['New_Price'].dropna()\n",
    "\n",
    "# Plot histogram\n",
    "plt.hist(data, bins=20)\n",
    "plt.xlabel('Values')\n",
    "plt.ylabel('Frequency')\n",
    "plt.title('Distribution of Values in Horse Power Column (Excluding NaN)')\n",
    "plt.show()"
   ]
  },
  {
   "cell_type": "code",
   "execution_count": 33,
   "id": "e7513015",
   "metadata": {},
   "outputs": [
    {
     "data": {
      "image/png": "[encoded data removed]",
      "text/plain": [
       "<Figure size 640x480 with 1 Axes>"
      ]
     },
     "metadata": {},
     "output_type": "display_data"
    }
   ],
   "source": [
    "plt.hist(used_cars['Horse_Power'], bins=20)  \n",
    "plt.xlabel('Values')\n",
    "plt.ylabel('Frequency')\n",
    "plt.title('Distribution of Values in Horse_Power')\n",
    "plt.show()"
   ]
  },
  {
   "cell_type": "code",
   "execution_count": 34,
   "id": "ed3e8bb2",
   "metadata": {},
   "outputs": [
    {
     "data": {
      "image/png": "[encoded data removed]",
      "text/plain": [
       "<Figure size 640x480 with 1 Axes>"
      ]
     },
     "metadata": {},
     "output_type": "display_data"
    }
   ],
   "source": [
    "plt.hist(used_cars['Fuel_Consumption_kmpl'], bins=20)  \n",
    "plt.xlabel('Values')\n",
    "plt.ylabel('Frequency')\n",
    "plt.title('Distribution of Values in Fuel_Consumption_kmpl')\n",
    "plt.show()"
   ]
  },
  {
   "cell_type": "code",
   "execution_count": null,
   "id": "2cc23a7d",
   "metadata": {},
   "outputs": [],
   "source": []
  }
 ],
 "metadata": {
  "kernelspec": {
   "display_name": "Python 3 (ipykernel)",
   "language": "python",
   "name": "python3"
  },
  "language_info": {
   "codemirror_mode": {
    "name": "ipython",
    "version": 3
   },
   "file_extension": ".py",
   "mimetype": "text/x-python",
   "name": "python",
   "nbconvert_exporter": "python",
   "pygments_lexer": "ipython3",
   "version": "3.9.1"
  }
 },
 "nbformat": 4,
 "nbformat_minor": 5
}
